{
  "nbformat": 4,
  "nbformat_minor": 0,
  "metadata": {
    "colab": {
      "name": "Sentiment Analysis on COVID-19 using Twitter Tweets",
      "provenance": [],
      "collapsed_sections": [],
      "machine_shape": "hm"
    },
    "kernelspec": {
      "name": "python3",
      "display_name": "Python 3"
    },
    "accelerator": "GPU"
  },
  "cells": [
    {
      "cell_type": "markdown",
      "metadata": {
        "id": "28BHcJLuvk9H"
      },
      "source": [
        "<img src=\"https://ustudy.world/wp-content/uploads/2014/10/George-Mason-University-logo.jpg \" alt=\"GMU Logo\" title=\"George Mason University\" />\n",
        "<hr style =\"color:#99CC99\">\n",
        "    \n",
        "<h2 style=\"font-family:Helvetica; color:#006633;\">Final Project Working System</h2>\n",
        "<h3 style=\"font-family:Helvetica; color:#006633;\"> Sentiment Analysis on COVID-19 using Twitter Tweets</h3>\n",
        "\n",
        "<p style=\"font-family:Helvetica; font-size:1.5em;\"> \n",
        "Author: Shinoj Kumar<br>\n",
        "Course Professor: Dr. Lindi Liao <br>\n",
        "Course Name: Natural Language Processing <br>\n",
        "Course Name and Section#: AIT 726-001<br>\n",
        "University Name: George Mason University<br>\n",
        "Date: December 7, 2020    <br>\n",
        "</p>    \n",
        "<hr style =\"color:#99CC99\" width=\"75%\">\n",
        "<p style=\"font-family:Helvetica; font-size:1.4em;\"> \n",
        "Instructions: Our final project is a sentiment analysis of COVID-19 tweets with dates from January to July and September using model trained on a sentiment labeled COVID-19 tweets dataset. This working system details the data processing steps, which saves the process dataset as a pickle file, and the model implementions steps. The dataset and the pickled files are include in the submission. To ensure working system is not disrupted, please install all required packages detailed in the import section and allow for adequate time for the code to run. Given that the models include parameter tuning, upwards of 5-10 hours may be expected for all results to populate. Please see html of results for easier checking.<br>\n",
        "\n",
        "\n",
        "\n",
        "     "
      ]
    },
    {
      "cell_type": "code",
      "metadata": {
        "id": "FMND-E1U02rL",
        "colab": {
          "base_uri": "https://localhost:8080/"
        },
        "outputId": "501256e4-4118-4a20-c29c-84323bb7a364"
      },
      "source": [
        "#left click on FinalProject_dataset folder and  'Add to my Drive'\n",
        "\n",
        "#Make sure you mount your drive to colab. An authentication link will pop-up so click on it and enter the password.\n",
        "from google.colab import drive\n",
        "drive.mount('/content/drive/')"
      ],
      "execution_count": null,
      "outputs": [
        {
          "output_type": "stream",
          "text": [
            "Drive already mounted at /content/drive/; to attempt to forcibly remount, call drive.mount(\"/content/drive/\", force_remount=True).\n"
          ],
          "name": "stdout"
        }
      ]
    },
    {
      "cell_type": "code",
      "metadata": {
        "id": "QK-gtdH50ncs",
        "colab": {
          "base_uri": "https://localhost:8080/"
        },
        "outputId": "d308b971-2970-4500-ac8c-3296c7aaa835"
      },
      "source": [
        "#Set working directory\n",
        "%cd '/content/drive/My Drive/FinalProject_dataset2'\n",
        "%ls\n"
      ],
      "execution_count": null,
      "outputs": [
        {
          "output_type": "stream",
          "text": [
            "/content/drive/My Drive/FinalProject_dataset2\n",
            " baseline_datatset.pickle     main_combined_tweetIDs.csv\n",
            " dataset_with_sentiment.csv   model.png\n",
            " full_hydrated_dataset.csv    NN_dataset.pickle\n",
            " glove.6B.100d.txt           'Sentiment of the Tweets in March 2020.png'\n"
          ],
          "name": "stdout"
        }
      ]
    },
    {
      "cell_type": "markdown",
      "metadata": {
        "id": "9ecPc7qU-q0C"
      },
      "source": [
        "## Import Packages"
      ]
    },
    {
      "cell_type": "code",
      "metadata": {
        "id": "ai6mPjzjAtS5",
        "colab": {
          "base_uri": "https://localhost:8080/"
        },
        "outputId": "00510d9e-19ed-4471-a059-b422696e6c8c"
      },
      "source": [
        "#Install libraries \n",
        "#! pip install textblob\n",
        "#! pip install pandas\n",
        "! pip install emoji"
      ],
      "execution_count": null,
      "outputs": [
        {
          "output_type": "stream",
          "text": [
            "Requirement already satisfied: emoji in /usr/local/lib/python3.6/dist-packages (0.6.0)\n"
          ],
          "name": "stdout"
        }
      ]
    },
    {
      "cell_type": "code",
      "metadata": {
        "id": "VH0gamG70hLi",
        "colab": {
          "base_uri": "https://localhost:8080/"
        },
        "outputId": "f1bbfea8-e97c-4956-87b3-0744c0b1b596"
      },
      "source": [
        "#Import packages\n",
        "import os\n",
        "import numpy as np\n",
        "import pandas as pd\n",
        "import json\n",
        "from sklearn.model_selection import train_test_split\n",
        "import tweepy as tw\n",
        "import matplotlib.pyplot as plt\n",
        "\n",
        "import nltk\n",
        "import re\n",
        "nltk.download(\"punkt\")\n",
        "nltk.download('wordnet')\n",
        "nltk.download('stopwords')\n",
        "nltk.download('averaged_perceptron_tagger')\n",
        "nltk.download('vader_lexicon')\n",
        "import urllib.request\n",
        "import gensim\n",
        "from nltk.tokenize import sent_tokenize\n",
        "from nltk.tokenize import word_tokenize\n",
        "from nltk.tokenize import RegexpTokenizer\n",
        "from nltk.corpus import stopwords\n",
        "from nltk.stem import PorterStemmer, WordNetLemmatizer, SnowballStemmer\n",
        "from collections import defaultdict, Counter\n",
        "from textblob import TextBlob\n",
        "from nltk.sentiment.vader import SentimentIntensityAnalyzer\n",
        "import spacy\n",
        "import en_core_web_sm\n",
        "nlp = en_core_web_sm.load()\n",
        "import emoji\n",
        "from tqdm import tqdm\n",
        "tqdm.pandas(desc=\"progress-bar\")\n",
        "from keras.preprocessing.text import one_hot\n",
        "from keras.preprocessing.sequence import pad_sequences\n",
        "from keras.models import Sequential\n",
        "from keras.layers.core import Activation, Dropout, Dense\n",
        "from keras.layers import Flatten\n",
        "from keras.layers import Conv1D\n",
        "from keras.layers import LSTM\n",
        "from keras.layers import GlobalAveragePooling1D\n",
        "from keras.layers.embeddings import Embedding\n",
        "from sklearn.model_selection import train_test_split\n",
        "from keras.preprocessing.text import Tokenizer\n",
        "from sklearn.utils import shuffle\n",
        "from sklearn.metrics import classification_report"
      ],
      "execution_count": null,
      "outputs": [
        {
          "output_type": "stream",
          "text": [
            "[nltk_data] Downloading package punkt to /root/nltk_data...\n",
            "[nltk_data]   Package punkt is already up-to-date!\n",
            "[nltk_data] Downloading package wordnet to /root/nltk_data...\n",
            "[nltk_data]   Package wordnet is already up-to-date!\n",
            "[nltk_data] Downloading package stopwords to /root/nltk_data...\n",
            "[nltk_data]   Package stopwords is already up-to-date!\n",
            "[nltk_data] Downloading package averaged_perceptron_tagger to\n",
            "[nltk_data]     /root/nltk_data...\n",
            "[nltk_data]   Package averaged_perceptron_tagger is already up-to-\n",
            "[nltk_data]       date!\n",
            "[nltk_data] Downloading package vader_lexicon to /root/nltk_data...\n",
            "[nltk_data]   Package vader_lexicon is already up-to-date!\n"
          ],
          "name": "stdout"
        },
        {
          "output_type": "stream",
          "text": [
            "/usr/local/lib/python3.6/dist-packages/nltk/twitter/__init__.py:20: UserWarning: The twython library has not been installed. Some functionality from the twitter package will not be available.\n",
            "  warnings.warn(\"The twython library has not been installed. \"\n"
          ],
          "name": "stderr"
        }
      ]
    },
    {
      "cell_type": "markdown",
      "metadata": {
        "id": "MEpUU3mQ-xeQ"
      },
      "source": [
        "## Data Preprocessing"
      ]
    },
    {
      "cell_type": "code",
      "metadata": {
        "id": "mU0AA-Ja3feb",
        "colab": {
          "base_uri": "https://localhost:8080/"
        },
        "outputId": "06ef2b97-2e7e-41c0-8f15-f6222d1f2b3e"
      },
      "source": [
        "#load for dataset for baseline and new data test\n",
        "tweet_data_orig= pd.read_csv('main_combined_tweetIDs.csv')\n",
        "tweet_data=shuffle(tweet_data_orig)\n"
      ],
      "execution_count": null,
      "outputs": [
        {
          "output_type": "stream",
          "text": [
            "/usr/local/lib/python3.6/dist-packages/IPython/core/interactiveshell.py:2718: DtypeWarning: Columns (0) have mixed types.Specify dtype option on import or set low_memory=False.\n",
            "  interactivity=interactivity, compiler=compiler, result=result)\n"
          ],
          "name": "stderr"
        }
      ]
    },
    {
      "cell_type": "code",
      "metadata": {
        "id": "P2Uprjrp9LL0",
        "colab": {
          "base_uri": "https://localhost:8080/"
        },
        "outputId": "9955b4eb-5faf-487d-c9d8-43f3fb1d593a"
      },
      "source": [
        "#load dataset with labels for classification with NN\n",
        "tweet_data_withlabels=pd.read_csv('dataset_with_sentiment.csv')\n",
        "tweet_data_withlabels=shuffle(tweet_data_withlabels)"
      ],
      "execution_count": null,
      "outputs": [
        {
          "output_type": "stream",
          "text": [
            "/usr/local/lib/python3.6/dist-packages/IPython/core/interactiveshell.py:2718: DtypeWarning: Columns (0,1,2,3,4,5,6,7,10,11,12,15,16,17,18,19,20,21,22,27,28,29,32,33) have mixed types.Specify dtype option on import or set low_memory=False.\n",
            "  interactivity=interactivity, compiler=compiler, result=result)\n"
          ],
          "name": "stderr"
        }
      ]
    },
    {
      "cell_type": "code",
      "metadata": {
        "id": "EQj1qsFf3tKR",
        "colab": {
          "base_uri": "https://localhost:8080/"
        },
        "outputId": "75375fd7-4621-4aa8-ecff-8b5d8b8485a2"
      },
      "source": [
        "#total features and rows for baseline\n",
        "tweet_data.shape"
      ],
      "execution_count": null,
      "outputs": [
        {
          "output_type": "execute_result",
          "data": {
            "text/plain": [
              "(1301887, 34)"
            ]
          },
          "metadata": {
            "tags": []
          },
          "execution_count": 7
        }
      ]
    },
    {
      "cell_type": "code",
      "metadata": {
        "id": "WZ4wmJv5-Mm9"
      },
      "source": [
        "#total features and rows for classification with NN"
      ],
      "execution_count": null,
      "outputs": []
    },
    {
      "cell_type": "code",
      "metadata": {
        "id": "DKA4kOCz7OnC",
        "colab": {
          "base_uri": "https://localhost:8080/",
          "height": 394
        },
        "outputId": "ddebdc79-7940-40e1-98d8-64823d89096b"
      },
      "source": [
        "tweet_data.head(5)"
      ],
      "execution_count": null,
      "outputs": [
        {
          "output_type": "execute_result",
          "data": {
            "text/html": [
              "<div>\n",
              "<style scoped>\n",
              "    .dataframe tbody tr th:only-of-type {\n",
              "        vertical-align: middle;\n",
              "    }\n",
              "\n",
              "    .dataframe tbody tr th {\n",
              "        vertical-align: top;\n",
              "    }\n",
              "\n",
              "    .dataframe thead th {\n",
              "        text-align: right;\n",
              "    }\n",
              "</style>\n",
              "<table border=\"1\" class=\"dataframe\">\n",
              "  <thead>\n",
              "    <tr style=\"text-align: right;\">\n",
              "      <th></th>\n",
              "      <th>coordinates</th>\n",
              "      <th>created_at</th>\n",
              "      <th>hashtags</th>\n",
              "      <th>media</th>\n",
              "      <th>urls</th>\n",
              "      <th>favorite_count</th>\n",
              "      <th>id</th>\n",
              "      <th>in_reply_to_screen_name</th>\n",
              "      <th>in_reply_to_status_id</th>\n",
              "      <th>in_reply_to_user_id</th>\n",
              "      <th>lang</th>\n",
              "      <th>place</th>\n",
              "      <th>possibly_sensitive</th>\n",
              "      <th>retweet_count</th>\n",
              "      <th>retweet_id</th>\n",
              "      <th>retweet_screen_name</th>\n",
              "      <th>source</th>\n",
              "      <th>text</th>\n",
              "      <th>tweet_url</th>\n",
              "      <th>user_created_at</th>\n",
              "      <th>user_screen_name</th>\n",
              "      <th>user_default_profile_image</th>\n",
              "      <th>user_description</th>\n",
              "      <th>user_favourites_count</th>\n",
              "      <th>user_followers_count</th>\n",
              "      <th>user_friends_count</th>\n",
              "      <th>user_listed_count</th>\n",
              "      <th>user_location</th>\n",
              "      <th>user_name</th>\n",
              "      <th>user_screen_name.1</th>\n",
              "      <th>user_statuses_count</th>\n",
              "      <th>user_time_zone</th>\n",
              "      <th>user_urls</th>\n",
              "      <th>user_verified</th>\n",
              "    </tr>\n",
              "  </thead>\n",
              "  <tbody>\n",
              "    <tr>\n",
              "      <th>735770</th>\n",
              "      <td>NaN</td>\n",
              "      <td>Sat May 30 16:53:34 +0000 2020</td>\n",
              "      <td>NaN</td>\n",
              "      <td>NaN</td>\n",
              "      <td>NaN</td>\n",
              "      <td>0</td>\n",
              "      <td>1266774767782309891</td>\n",
              "      <td>NaN</td>\n",
              "      <td>NaN</td>\n",
              "      <td>NaN</td>\n",
              "      <td>es</td>\n",
              "      <td>NaN</td>\n",
              "      <td>NaN</td>\n",
              "      <td>1</td>\n",
              "      <td>1.266765e+18</td>\n",
              "      <td>buffonSoy</td>\n",
              "      <td>&lt;a href=\"http://twitter.com/download/android\" ...</td>\n",
              "      <td>RT @buffonSoy: Calor, humedad y tapabocas: la ...</td>\n",
              "      <td>https://twitter.com/BlascoGianelli/status/1266...</td>\n",
              "      <td>Thu Apr 05 01:24:43 +0000 2018</td>\n",
              "      <td>BlascoGianelli</td>\n",
              "      <td>False</td>\n",
              "      <td>NaN</td>\n",
              "      <td>4600</td>\n",
              "      <td>173</td>\n",
              "      <td>411</td>\n",
              "      <td>0</td>\n",
              "      <td>Montevideo, Uruguay</td>\n",
              "      <td>Yo no saqué la foto</td>\n",
              "      <td>BlascoGianelli</td>\n",
              "      <td>4048</td>\n",
              "      <td>NaN</td>\n",
              "      <td>NaN</td>\n",
              "      <td>False</td>\n",
              "    </tr>\n",
              "    <tr>\n",
              "      <th>967707</th>\n",
              "      <td>NaN</td>\n",
              "      <td>Thu Apr 30 15:01:33 +0000 2020</td>\n",
              "      <td>NaN</td>\n",
              "      <td>NaN</td>\n",
              "      <td>https://twitter.com/frasesdem3rda/status/12558...</td>\n",
              "      <td>0</td>\n",
              "      <td>1255874942014496774</td>\n",
              "      <td>NaN</td>\n",
              "      <td>NaN</td>\n",
              "      <td>NaN</td>\n",
              "      <td>pt</td>\n",
              "      <td>NaN</td>\n",
              "      <td>False</td>\n",
              "      <td>0</td>\n",
              "      <td>NaN</td>\n",
              "      <td>NaN</td>\n",
              "      <td>&lt;a href=\"http://twitter.com/download/iphone\" r...</td>\n",
              "      <td>Tadinhoo, fiquei com pena https://t.co/2VtlG9Thdu</td>\n",
              "      <td>https://twitter.com/__lunasilva__/status/12558...</td>\n",
              "      <td>Fri Jan 01 12:09:45 +0000 2016</td>\n",
              "      <td>__lunasilva__</td>\n",
              "      <td>False</td>\n",
              "      <td>Colgaia📚 SMF📍// ig: __lunasilva__</td>\n",
              "      <td>15070</td>\n",
              "      <td>198</td>\n",
              "      <td>518</td>\n",
              "      <td>0</td>\n",
              "      <td>NaN</td>\n",
              "      <td>Luna✨</td>\n",
              "      <td>__lunasilva__</td>\n",
              "      <td>48535</td>\n",
              "      <td>NaN</td>\n",
              "      <td>https://curiouscat.me/Luna_Silva</td>\n",
              "      <td>False</td>\n",
              "    </tr>\n",
              "    <tr>\n",
              "      <th>575044</th>\n",
              "      <td>NaN</td>\n",
              "      <td>Tue Jun 30 23:32:08 +0000 2020</td>\n",
              "      <td>TrumpKnewAndDidNothing</td>\n",
              "      <td>NaN</td>\n",
              "      <td>NaN</td>\n",
              "      <td>0</td>\n",
              "      <td>1278109094847475713</td>\n",
              "      <td>NaN</td>\n",
              "      <td>NaN</td>\n",
              "      <td>NaN</td>\n",
              "      <td>en</td>\n",
              "      <td>NaN</td>\n",
              "      <td>NaN</td>\n",
              "      <td>130</td>\n",
              "      <td>1.278064e+18</td>\n",
              "      <td>tooldtobehere</td>\n",
              "      <td>&lt;a href=\"http://twitter.com/download/android\" ...</td>\n",
              "      <td>RT @tooldtobehere: #TrumpKnewAndDidNothing\\nDJ...</td>\n",
              "      <td>https://twitter.com/DebbieGlpaints/status/1278...</td>\n",
              "      <td>Sat Dec 26 23:57:36 +0000 2015</td>\n",
              "      <td>DebbieGlpaints</td>\n",
              "      <td>True</td>\n",
              "      <td>NaN</td>\n",
              "      <td>4750</td>\n",
              "      <td>14</td>\n",
              "      <td>78</td>\n",
              "      <td>0</td>\n",
              "      <td>NaN</td>\n",
              "      <td>Debbie Glass</td>\n",
              "      <td>DebbieGlpaints</td>\n",
              "      <td>11476</td>\n",
              "      <td>NaN</td>\n",
              "      <td>NaN</td>\n",
              "      <td>False</td>\n",
              "    </tr>\n",
              "    <tr>\n",
              "      <th>1194467</th>\n",
              "      <td>NaN</td>\n",
              "      <td>Sun Mar 15 22:24:13 +0000 2020</td>\n",
              "      <td>NaN</td>\n",
              "      <td>NaN</td>\n",
              "      <td>https://twitter.com/cudegracah/status/12393073...</td>\n",
              "      <td>0</td>\n",
              "      <td>1239316500357484545</td>\n",
              "      <td>NaN</td>\n",
              "      <td>NaN</td>\n",
              "      <td>NaN</td>\n",
              "      <td>pt</td>\n",
              "      <td>NaN</td>\n",
              "      <td>False</td>\n",
              "      <td>0</td>\n",
              "      <td>NaN</td>\n",
              "      <td>NaN</td>\n",
              "      <td>&lt;a href=\"https://mobile.twitter.com\" rel=\"nofo...</td>\n",
              "      <td>imagina o tanto de preconceito que vai pro cai...</td>\n",
              "      <td>https://twitter.com/carloshmelo0/status/123931...</td>\n",
              "      <td>Sun Sep 24 23:59:40 +0000 2017</td>\n",
              "      <td>carloshmelo0</td>\n",
              "      <td>False</td>\n",
              "      <td>eh isso</td>\n",
              "      <td>7027</td>\n",
              "      <td>104</td>\n",
              "      <td>448</td>\n",
              "      <td>0</td>\n",
              "      <td>NaN</td>\n",
              "      <td>carlxs</td>\n",
              "      <td>carloshmelo0</td>\n",
              "      <td>7568</td>\n",
              "      <td>NaN</td>\n",
              "      <td>NaN</td>\n",
              "      <td>False</td>\n",
              "    </tr>\n",
              "    <tr>\n",
              "      <th>1137029</th>\n",
              "      <td>NaN</td>\n",
              "      <td>Sat Feb 29 20:19:20 +0000 2020</td>\n",
              "      <td>NaN</td>\n",
              "      <td>NaN</td>\n",
              "      <td>https://www.oann.com/first-u-s-death-from-coro...</td>\n",
              "      <td>0</td>\n",
              "      <td>1233849251614117889</td>\n",
              "      <td>NaN</td>\n",
              "      <td>NaN</td>\n",
              "      <td>NaN</td>\n",
              "      <td>en</td>\n",
              "      <td>NaN</td>\n",
              "      <td>False</td>\n",
              "      <td>3</td>\n",
              "      <td>1.233849e+18</td>\n",
              "      <td>donaldherring11</td>\n",
              "      <td>&lt;a href=\"http://twitter.com/download/android\" ...</td>\n",
              "      <td>RT @donaldherring11: First u.s. Death from vir...</td>\n",
              "      <td>https://twitter.com/donaldherring11/status/123...</td>\n",
              "      <td>Thu Jun 11 06:33:42 +0000 2015</td>\n",
              "      <td>donaldherring11</td>\n",
              "      <td>False</td>\n",
              "      <td>REPUBLICAN\\nCHIRSTIAN. I stand with Israel.   ...</td>\n",
              "      <td>82793</td>\n",
              "      <td>12518</td>\n",
              "      <td>13748</td>\n",
              "      <td>7</td>\n",
              "      <td>United States -</td>\n",
              "      <td>Donald Herring</td>\n",
              "      <td>donaldherring11</td>\n",
              "      <td>113224</td>\n",
              "      <td>NaN</td>\n",
              "      <td>NaN</td>\n",
              "      <td>False</td>\n",
              "    </tr>\n",
              "  </tbody>\n",
              "</table>\n",
              "</div>"
            ],
            "text/plain": [
              "        coordinates  ... user_verified\n",
              "735770          NaN  ...         False\n",
              "967707          NaN  ...         False\n",
              "575044          NaN  ...         False\n",
              "1194467         NaN  ...         False\n",
              "1137029         NaN  ...         False\n",
              "\n",
              "[5 rows x 34 columns]"
            ]
          },
          "metadata": {
            "tags": []
          },
          "execution_count": 9
        }
      ]
    },
    {
      "cell_type": "code",
      "metadata": {
        "id": "CtQ77zLQ0pBt"
      },
      "source": [
        "#Subset necessary features of interest\n",
        "tweet_data_sub= tweet_data[['created_at','user_name', 'user_screen_name','text', 'user_friends_count', 'user_followers_count','user_verified','lang']]"
      ],
      "execution_count": null,
      "outputs": []
    },
    {
      "cell_type": "code",
      "metadata": {
        "id": "tG092k7Ux02k"
      },
      "source": [
        "#subset to only include english tweets\n",
        "tweet_data_sub= tweet_data_sub[(tweet_data_sub['lang']=='en')]"
      ],
      "execution_count": null,
      "outputs": []
    },
    {
      "cell_type": "code",
      "metadata": {
        "id": "pfTjF4Fw92uF",
        "colab": {
          "base_uri": "https://localhost:8080/"
        },
        "outputId": "79489cd3-c15a-45ab-f780-e7fa8ad2cee4"
      },
      "source": [
        "##total features and rows for english only\n",
        "tweet_data_sub.shape"
      ],
      "execution_count": null,
      "outputs": [
        {
          "output_type": "execute_result",
          "data": {
            "text/plain": [
              "(948491, 8)"
            ]
          },
          "metadata": {
            "tags": []
          },
          "execution_count": 12
        }
      ]
    },
    {
      "cell_type": "code",
      "metadata": {
        "id": "Cnht3A9H_FKu",
        "colab": {
          "base_uri": "https://localhost:8080/"
        },
        "outputId": "c6b11b36-3d5e-4407-9dd3-557771bf559d"
      },
      "source": [
        "#check if there are any duplicates in the tweets\n",
        "tweet_data ['text'].duplicated().any()"
      ],
      "execution_count": null,
      "outputs": [
        {
          "output_type": "execute_result",
          "data": {
            "text/plain": [
              "True"
            ]
          },
          "metadata": {
            "tags": []
          },
          "execution_count": 13
        }
      ]
    },
    {
      "cell_type": "code",
      "metadata": {
        "id": "Xtv_pq2mBeDf",
        "colab": {
          "base_uri": "https://localhost:8080/"
        },
        "outputId": "a771bac5-945f-4bfb-f603-21c24810e209"
      },
      "source": [
        "#drop duplicates from tweets \n",
        "tweet_data_pre=tweet_data_sub.drop_duplicates(['text'], keep='last')\n",
        "\n",
        "#drop lang column\n",
        "tweet_data_pre=tweet_data_pre[tweet_data_pre.columns.difference(['lang'])]\n",
        "\n",
        "tweet_data_pre.shape"
      ],
      "execution_count": null,
      "outputs": [
        {
          "output_type": "execute_result",
          "data": {
            "text/plain": [
              "(384820, 7)"
            ]
          },
          "metadata": {
            "tags": []
          },
          "execution_count": 14
        }
      ]
    },
    {
      "cell_type": "code",
      "metadata": {
        "id": "BdigzOG9EBNj",
        "colab": {
          "base_uri": "https://localhost:8080/",
          "height": 394
        },
        "outputId": "d404fab9-db27-487f-d6dc-8f1bad2953bb"
      },
      "source": [
        "tweet_data_pre.head(5)"
      ],
      "execution_count": null,
      "outputs": [
        {
          "output_type": "execute_result",
          "data": {
            "text/html": [
              "<div>\n",
              "<style scoped>\n",
              "    .dataframe tbody tr th:only-of-type {\n",
              "        vertical-align: middle;\n",
              "    }\n",
              "\n",
              "    .dataframe tbody tr th {\n",
              "        vertical-align: top;\n",
              "    }\n",
              "\n",
              "    .dataframe thead th {\n",
              "        text-align: right;\n",
              "    }\n",
              "</style>\n",
              "<table border=\"1\" class=\"dataframe\">\n",
              "  <thead>\n",
              "    <tr style=\"text-align: right;\">\n",
              "      <th></th>\n",
              "      <th>created_at</th>\n",
              "      <th>text</th>\n",
              "      <th>user_followers_count</th>\n",
              "      <th>user_friends_count</th>\n",
              "      <th>user_name</th>\n",
              "      <th>user_screen_name</th>\n",
              "      <th>user_verified</th>\n",
              "    </tr>\n",
              "  </thead>\n",
              "  <tbody>\n",
              "    <tr>\n",
              "      <th>1142305</th>\n",
              "      <td>Sat Feb 29 20:17:15 +0000 2020</td>\n",
              "      <td>RT @hasanthehun: if i get coronavirus from sit...</td>\n",
              "      <td>1346</td>\n",
              "      <td>1084</td>\n",
              "      <td>Micah Sharon</td>\n",
              "      <td>MicahSharon2013</td>\n",
              "      <td>False</td>\n",
              "    </tr>\n",
              "    <tr>\n",
              "      <th>977942</th>\n",
              "      <td>Thu Apr 30 15:05:34 +0000 2020</td>\n",
              "      <td>i want nothing more than the complete studio g...</td>\n",
              "      <td>101</td>\n",
              "      <td>534</td>\n",
              "      <td>Ryan Ellis</td>\n",
              "      <td>DisturbInfinity</td>\n",
              "      <td>False</td>\n",
              "    </tr>\n",
              "    <tr>\n",
              "      <th>917737</th>\n",
              "      <td>Fri Jan 31 00:41:53 +0000 2020</td>\n",
              "      <td>Personally i would be fine with being quaranti...</td>\n",
              "      <td>861</td>\n",
              "      <td>1117</td>\n",
              "      <td>Jensen Freeman</td>\n",
              "      <td>_Dirty_J</td>\n",
              "      <td>False</td>\n",
              "    </tr>\n",
              "    <tr>\n",
              "      <th>273861</th>\n",
              "      <td>Tue Sep 01 01:37:26 +0000 2020</td>\n",
              "      <td>Square up covid 👊 https://t.co/IUobeU7gnM</td>\n",
              "      <td>612</td>\n",
              "      <td>319</td>\n",
              "      <td>Chris Sánchez</td>\n",
              "      <td>itsqris</td>\n",
              "      <td>False</td>\n",
              "    </tr>\n",
              "    <tr>\n",
              "      <th>1033978</th>\n",
              "      <td>Sat Feb 29 20:37:04 +0000 2020</td>\n",
              "      <td>RT @_s_k_1_4: They will definitely patent it a...</td>\n",
              "      <td>54</td>\n",
              "      <td>60</td>\n",
              "      <td>Acayd</td>\n",
              "      <td>Acayd2</td>\n",
              "      <td>False</td>\n",
              "    </tr>\n",
              "  </tbody>\n",
              "</table>\n",
              "</div>"
            ],
            "text/plain": [
              "                             created_at  ... user_verified\n",
              "1142305  Sat Feb 29 20:17:15 +0000 2020  ...         False\n",
              "977942   Thu Apr 30 15:05:34 +0000 2020  ...         False\n",
              "917737   Fri Jan 31 00:41:53 +0000 2020  ...         False\n",
              "273861   Tue Sep 01 01:37:26 +0000 2020  ...         False\n",
              "1033978  Sat Feb 29 20:37:04 +0000 2020  ...         False\n",
              "\n",
              "[5 rows x 7 columns]"
            ]
          },
          "metadata": {
            "tags": []
          },
          "execution_count": 15
        }
      ]
    },
    {
      "cell_type": "code",
      "metadata": {
        "id": "EHngCe2NG365"
      },
      "source": [
        "from datetime import datetime\n",
        "from dateutil.parser import parse\n",
        "\n",
        "#reformat date\n",
        "tweet_data_pre['date'] = tweet_data_pre['created_at'].apply(parse)\n",
        "\n",
        "#drop lang and Id column\n",
        "tweet_data_pre=tweet_data_pre[tweet_data_pre.columns.difference(['created_at'])]\n"
      ],
      "execution_count": null,
      "outputs": []
    },
    {
      "cell_type": "code",
      "metadata": {
        "id": "d4IeOI5dPPeg",
        "colab": {
          "base_uri": "https://localhost:8080/",
          "height": 394
        },
        "outputId": "d5fa2c92-ef30-427f-9c79-48af89b0f46a"
      },
      "source": [
        "tweet_data_pre['month-day'] = tweet_data_pre['date'].dt.strftime('%b-%d')\n",
        "tweet_data_pre['month'] = tweet_data_pre['date'].dt.strftime('%b')\n",
        "tweet_data_pre.head(5)"
      ],
      "execution_count": null,
      "outputs": [
        {
          "output_type": "execute_result",
          "data": {
            "text/html": [
              "<div>\n",
              "<style scoped>\n",
              "    .dataframe tbody tr th:only-of-type {\n",
              "        vertical-align: middle;\n",
              "    }\n",
              "\n",
              "    .dataframe tbody tr th {\n",
              "        vertical-align: top;\n",
              "    }\n",
              "\n",
              "    .dataframe thead th {\n",
              "        text-align: right;\n",
              "    }\n",
              "</style>\n",
              "<table border=\"1\" class=\"dataframe\">\n",
              "  <thead>\n",
              "    <tr style=\"text-align: right;\">\n",
              "      <th></th>\n",
              "      <th>date</th>\n",
              "      <th>text</th>\n",
              "      <th>user_followers_count</th>\n",
              "      <th>user_friends_count</th>\n",
              "      <th>user_name</th>\n",
              "      <th>user_screen_name</th>\n",
              "      <th>user_verified</th>\n",
              "      <th>month-day</th>\n",
              "      <th>month</th>\n",
              "    </tr>\n",
              "  </thead>\n",
              "  <tbody>\n",
              "    <tr>\n",
              "      <th>1142305</th>\n",
              "      <td>2020-02-29 20:17:15+00:00</td>\n",
              "      <td>RT @hasanthehun: if i get coronavirus from sit...</td>\n",
              "      <td>1346</td>\n",
              "      <td>1084</td>\n",
              "      <td>Micah Sharon</td>\n",
              "      <td>MicahSharon2013</td>\n",
              "      <td>False</td>\n",
              "      <td>Feb-29</td>\n",
              "      <td>Feb</td>\n",
              "    </tr>\n",
              "    <tr>\n",
              "      <th>977942</th>\n",
              "      <td>2020-04-30 15:05:34+00:00</td>\n",
              "      <td>i want nothing more than the complete studio g...</td>\n",
              "      <td>101</td>\n",
              "      <td>534</td>\n",
              "      <td>Ryan Ellis</td>\n",
              "      <td>DisturbInfinity</td>\n",
              "      <td>False</td>\n",
              "      <td>Apr-30</td>\n",
              "      <td>Apr</td>\n",
              "    </tr>\n",
              "    <tr>\n",
              "      <th>917737</th>\n",
              "      <td>2020-01-31 00:41:53+00:00</td>\n",
              "      <td>Personally i would be fine with being quaranti...</td>\n",
              "      <td>861</td>\n",
              "      <td>1117</td>\n",
              "      <td>Jensen Freeman</td>\n",
              "      <td>_Dirty_J</td>\n",
              "      <td>False</td>\n",
              "      <td>Jan-31</td>\n",
              "      <td>Jan</td>\n",
              "    </tr>\n",
              "    <tr>\n",
              "      <th>273861</th>\n",
              "      <td>2020-09-01 01:37:26+00:00</td>\n",
              "      <td>Square up covid 👊 https://t.co/IUobeU7gnM</td>\n",
              "      <td>612</td>\n",
              "      <td>319</td>\n",
              "      <td>Chris Sánchez</td>\n",
              "      <td>itsqris</td>\n",
              "      <td>False</td>\n",
              "      <td>Sep-01</td>\n",
              "      <td>Sep</td>\n",
              "    </tr>\n",
              "    <tr>\n",
              "      <th>1033978</th>\n",
              "      <td>2020-02-29 20:37:04+00:00</td>\n",
              "      <td>RT @_s_k_1_4: They will definitely patent it a...</td>\n",
              "      <td>54</td>\n",
              "      <td>60</td>\n",
              "      <td>Acayd</td>\n",
              "      <td>Acayd2</td>\n",
              "      <td>False</td>\n",
              "      <td>Feb-29</td>\n",
              "      <td>Feb</td>\n",
              "    </tr>\n",
              "  </tbody>\n",
              "</table>\n",
              "</div>"
            ],
            "text/plain": [
              "                             date  ... month\n",
              "1142305 2020-02-29 20:17:15+00:00  ...   Feb\n",
              "977942  2020-04-30 15:05:34+00:00  ...   Apr\n",
              "917737  2020-01-31 00:41:53+00:00  ...   Jan\n",
              "273861  2020-09-01 01:37:26+00:00  ...   Sep\n",
              "1033978 2020-02-29 20:37:04+00:00  ...   Feb\n",
              "\n",
              "[5 rows x 9 columns]"
            ]
          },
          "metadata": {
            "tags": []
          },
          "execution_count": 17
        }
      ]
    },
    {
      "cell_type": "code",
      "metadata": {
        "id": "FktjtpdekT5L",
        "colab": {
          "base_uri": "https://localhost:8080/"
        },
        "outputId": "995e8c98-94e7-4150-e6ea-87bcfb8250d4"
      },
      "source": [
        "#Rebalancing dataset to make sure equal amounts of tweets for each month\n",
        "tweet_data_pre['month'].value_counts()"
      ],
      "execution_count": null,
      "outputs": [
        {
          "output_type": "execute_result",
          "data": {
            "text/plain": [
              "Jun    86926\n",
              "Sep    83867\n",
              "Mar    83009\n",
              "Feb    42953\n",
              "Apr    38045\n",
              "May    29960\n",
              "Jan    20060\n",
              "Name: month, dtype: int64"
            ]
          },
          "metadata": {
            "tags": []
          },
          "execution_count": 18
        }
      ]
    },
    {
      "cell_type": "code",
      "metadata": {
        "id": "p3RVZTm0vE6I"
      },
      "source": [
        "#group by lowest number of tweets in month\n",
        "tweet_data_balanced=tweet_data_pre.groupby('month').head(20059)"
      ],
      "execution_count": null,
      "outputs": []
    },
    {
      "cell_type": "code",
      "metadata": {
        "id": "3vp8xLmHvjAB",
        "colab": {
          "base_uri": "https://localhost:8080/"
        },
        "outputId": "63217588-8858-4dc6-aedc-a29fab5e84ec"
      },
      "source": [
        "#check that it's balanced\n",
        "tweet_data_balanced['month'].value_counts()"
      ],
      "execution_count": null,
      "outputs": [
        {
          "output_type": "execute_result",
          "data": {
            "text/plain": [
              "May    20059\n",
              "Mar    20059\n",
              "Jan    20059\n",
              "Apr    20059\n",
              "Sep    20059\n",
              "Jun    20059\n",
              "Feb    20059\n",
              "Name: month, dtype: int64"
            ]
          },
          "metadata": {
            "tags": []
          },
          "execution_count": 20
        }
      ]
    },
    {
      "cell_type": "code",
      "metadata": {
        "id": "RU7TL_9jl6vQ"
      },
      "source": [
        "#Cleaning \n",
        "import re\n",
        "\n",
        "#function to find pattern to remove username mentions\n",
        "def remove_pattern(input_txt, pattern):\n",
        "    r = re.findall(pattern, input_txt)\n",
        "    for i in r:\n",
        "        input_txt = re.sub(i, '', input_txt)\n",
        "        \n",
        "    return input_txt\n"
      ],
      "execution_count": null,
      "outputs": []
    },
    {
      "cell_type": "code",
      "metadata": {
        "id": "FROhwPacfxbV",
        "colab": {
          "base_uri": "https://localhost:8080/"
        },
        "outputId": "7f97de7f-b438-41cf-db86-085eb6f49eac"
      },
      "source": [
        "#Cleaning \n",
        "tweet_data_balanced['tweet_cleaned'] = np.vectorize(remove_pattern)(tweet_data_balanced['text'], \"@[\\w]*\")"
      ],
      "execution_count": null,
      "outputs": [
        {
          "output_type": "stream",
          "text": [
            "/usr/local/lib/python3.6/dist-packages/ipykernel_launcher.py:2: SettingWithCopyWarning: \n",
            "A value is trying to be set on a copy of a slice from a DataFrame.\n",
            "Try using .loc[row_indexer,col_indexer] = value instead\n",
            "\n",
            "See the caveats in the documentation: https://pandas.pydata.org/pandas-docs/stable/user_guide/indexing.html#returning-a-view-versus-a-copy\n",
            "  \n"
          ],
          "name": "stderr"
        }
      ]
    },
    {
      "cell_type": "code",
      "metadata": {
        "id": "3Qo1OEhJJpN4"
      },
      "source": [
        "#Capture hashtags\n",
        "tweet_data_balanced['hashtag'] = tweet_data_balanced['tweet_cleaned'].apply(lambda x: re.findall(r\"#(\\w+)\", x))\n",
        "#remove emoticon\n",
        "tweet_data_balanced['tweet_cleaned']=tweet_data_balanced['tweet_cleaned'].str.replace(\"([?:[<>]?[:;=8][\\-o\\*\\']?[\\)\\]|\\(\\[dDpPo\\/\\:\\}\\{@\\|\\\\]|[\\)\\]\\(\\[dDpP\\/\\:\\}\\{@\\|\\\\][\\-o\\*\\']?[:;=8][<>]?|[<3]])+\", \"\")\n",
        "#remove digits\n",
        "tweet_data_balanced['tweet_cleaned']=tweet_data_balanced['tweet_cleaned'].str.replace(\"([0-7]+|[9]+)\", \"\")\n",
        "#remove tags\n",
        "tweet_data_balanced['tweet_cleaned']=tweet_data_balanced['tweet_cleaned'].str.replace(\"(?:<[^>]+>)\",\"\")\n",
        "#remove RT\n",
        "tweet_data_balanced['tweet_cleaned'] = tweet_data_balanced['tweet_cleaned'] .apply(lambda x: ' '.join([w for w in x.split() if len(w)>3]))\n",
        "# remove special characters, numbers, punctuations\n",
        "tweet_data_balanced['tweet_cleaned'] = tweet_data_balanced['tweet_cleaned'].str.replace('\\W+', ' ')\n",
        "#lower case \n",
        "tweet_data_balanced['tweet_cleaned'] = tweet_data_balanced['tweet_cleaned'].str.lower()\n"
      ],
      "execution_count": null,
      "outputs": []
    },
    {
      "cell_type": "code",
      "metadata": {
        "id": "49hFBKkvwEVW"
      },
      "source": [
        "#remove emojis\n",
        "tweet_data_balanced['tweet_cleaned_noemoji']=tweet_data_balanced['tweet_cleaned'].str.replace(emoji.get_emoji_regexp(),\"\")"
      ],
      "execution_count": null,
      "outputs": []
    },
    {
      "cell_type": "code",
      "metadata": {
        "id": "0wBDzxwoyJ1T",
        "colab": {
          "base_uri": "https://localhost:8080/",
          "height": 428
        },
        "outputId": "4b4ce258-9994-4830-d169-2a57427c301f"
      },
      "source": [
        "tweet_data_balanced.head(5)"
      ],
      "execution_count": null,
      "outputs": [
        {
          "output_type": "execute_result",
          "data": {
            "text/html": [
              "<div>\n",
              "<style scoped>\n",
              "    .dataframe tbody tr th:only-of-type {\n",
              "        vertical-align: middle;\n",
              "    }\n",
              "\n",
              "    .dataframe tbody tr th {\n",
              "        vertical-align: top;\n",
              "    }\n",
              "\n",
              "    .dataframe thead th {\n",
              "        text-align: right;\n",
              "    }\n",
              "</style>\n",
              "<table border=\"1\" class=\"dataframe\">\n",
              "  <thead>\n",
              "    <tr style=\"text-align: right;\">\n",
              "      <th></th>\n",
              "      <th>date</th>\n",
              "      <th>text</th>\n",
              "      <th>user_followers_count</th>\n",
              "      <th>user_friends_count</th>\n",
              "      <th>user_name</th>\n",
              "      <th>user_screen_name</th>\n",
              "      <th>user_verified</th>\n",
              "      <th>month-day</th>\n",
              "      <th>month</th>\n",
              "      <th>tweet_cleaned</th>\n",
              "      <th>hashtag</th>\n",
              "      <th>tweet_cleaned_noemoji</th>\n",
              "    </tr>\n",
              "  </thead>\n",
              "  <tbody>\n",
              "    <tr>\n",
              "      <th>1142305</th>\n",
              "      <td>2020-02-29 20:17:15+00:00</td>\n",
              "      <td>RT @hasanthehun: if i get coronavirus from sit...</td>\n",
              "      <td>1346</td>\n",
              "      <td>1084</td>\n",
              "      <td>Micah Sharon</td>\n",
              "      <td>MicahSharon2013</td>\n",
              "      <td>False</td>\n",
              "      <td>Feb-29</td>\n",
              "      <td>Feb</td>\n",
              "      <td>coronavirus from sitting here long instead get...</td>\n",
              "      <td>[]</td>\n",
              "      <td>coronavirus from sitting here long instead get...</td>\n",
              "    </tr>\n",
              "    <tr>\n",
              "      <th>977942</th>\n",
              "      <td>2020-04-30 15:05:34+00:00</td>\n",
              "      <td>i want nothing more than the complete studio g...</td>\n",
              "      <td>101</td>\n",
              "      <td>534</td>\n",
              "      <td>Ryan Ellis</td>\n",
              "      <td>DisturbInfinity</td>\n",
              "      <td>False</td>\n",
              "      <td>Apr-30</td>\n",
              "      <td>Apr</td>\n",
              "      <td>want nothing more than complete studio ghibli ...</td>\n",
              "      <td>[]</td>\n",
              "      <td>want nothing more than complete studio ghibli ...</td>\n",
              "    </tr>\n",
              "    <tr>\n",
              "      <th>917737</th>\n",
              "      <td>2020-01-31 00:41:53+00:00</td>\n",
              "      <td>Personally i would be fine with being quaranti...</td>\n",
              "      <td>861</td>\n",
              "      <td>1117</td>\n",
              "      <td>Jensen Freeman</td>\n",
              "      <td>_Dirty_J</td>\n",
              "      <td>False</td>\n",
              "      <td>Jan-31</td>\n",
              "      <td>Jan</td>\n",
              "      <td>personally would fine with being quarantined h...</td>\n",
              "      <td>[]</td>\n",
              "      <td>personally would fine with being quarantined h...</td>\n",
              "    </tr>\n",
              "    <tr>\n",
              "      <th>273861</th>\n",
              "      <td>2020-09-01 01:37:26+00:00</td>\n",
              "      <td>Square up covid 👊 https://t.co/IUobeU7gnM</td>\n",
              "      <td>612</td>\n",
              "      <td>319</td>\n",
              "      <td>Chris Sánchez</td>\n",
              "      <td>itsqris</td>\n",
              "      <td>False</td>\n",
              "      <td>Sep-01</td>\n",
              "      <td>Sep</td>\n",
              "      <td>square covid https t co iuobeugnm</td>\n",
              "      <td>[]</td>\n",
              "      <td>square covid https t co iuobeugnm</td>\n",
              "    </tr>\n",
              "    <tr>\n",
              "      <th>1033978</th>\n",
              "      <td>2020-02-29 20:37:04+00:00</td>\n",
              "      <td>RT @_s_k_1_4: They will definitely patent it a...</td>\n",
              "      <td>54</td>\n",
              "      <td>60</td>\n",
              "      <td>Acayd</td>\n",
              "      <td>Acayd2</td>\n",
              "      <td>False</td>\n",
              "      <td>Feb-29</td>\n",
              "      <td>Feb</td>\n",
              "      <td>they will definitely patent make expensive maj...</td>\n",
              "      <td>[]</td>\n",
              "      <td>they will definitely patent make expensive maj...</td>\n",
              "    </tr>\n",
              "  </tbody>\n",
              "</table>\n",
              "</div>"
            ],
            "text/plain": [
              "                             date  ...                              tweet_cleaned_noemoji\n",
              "1142305 2020-02-29 20:17:15+00:00  ...  coronavirus from sitting here long instead get...\n",
              "977942  2020-04-30 15:05:34+00:00  ...  want nothing more than complete studio ghibli ...\n",
              "917737  2020-01-31 00:41:53+00:00  ...  personally would fine with being quarantined h...\n",
              "273861  2020-09-01 01:37:26+00:00  ...                  square covid https t co iuobeugnm\n",
              "1033978 2020-02-29 20:37:04+00:00  ...  they will definitely patent make expensive maj...\n",
              "\n",
              "[5 rows x 12 columns]"
            ]
          },
          "metadata": {
            "tags": []
          },
          "execution_count": 25
        }
      ]
    },
    {
      "cell_type": "code",
      "metadata": {
        "id": "Z11v8hZNw4Rz"
      },
      "source": [
        "#Saving rebalanced dataset\n",
        "import pickle\n",
        "#tweet_data_balanced.to_pickle('baseline_datatset.pickle')\n",
        "\n",
        "tweet_data_balanced = pd.read_pickle('/content/drive/My Drive/FinalProject_dataset2/baseline_datatset.pickle')\n"
      ],
      "execution_count": null,
      "outputs": []
    },
    {
      "cell_type": "code",
      "metadata": {
        "id": "z6aEWyMzVaPP",
        "colab": {
          "base_uri": "https://localhost:8080/",
          "height": 530
        },
        "outputId": "c17a364c-aac7-4c1b-b047-29adf9b94751"
      },
      "source": [
        "tweet_data_balanced.head(5)"
      ],
      "execution_count": null,
      "outputs": [
        {
          "output_type": "execute_result",
          "data": {
            "text/html": [
              "<div>\n",
              "<style scoped>\n",
              "    .dataframe tbody tr th:only-of-type {\n",
              "        vertical-align: middle;\n",
              "    }\n",
              "\n",
              "    .dataframe tbody tr th {\n",
              "        vertical-align: top;\n",
              "    }\n",
              "\n",
              "    .dataframe thead th {\n",
              "        text-align: right;\n",
              "    }\n",
              "</style>\n",
              "<table border=\"1\" class=\"dataframe\">\n",
              "  <thead>\n",
              "    <tr style=\"text-align: right;\">\n",
              "      <th></th>\n",
              "      <th>date</th>\n",
              "      <th>text</th>\n",
              "      <th>user_followers_count</th>\n",
              "      <th>user_friends_count</th>\n",
              "      <th>user_name</th>\n",
              "      <th>user_screen_name</th>\n",
              "      <th>user_verified</th>\n",
              "      <th>month-day</th>\n",
              "      <th>month</th>\n",
              "      <th>tweet_cleaned</th>\n",
              "      <th>hashtag</th>\n",
              "      <th>tweet_cleaned_noemoji</th>\n",
              "    </tr>\n",
              "  </thead>\n",
              "  <tbody>\n",
              "    <tr>\n",
              "      <th>46751</th>\n",
              "      <td>2020-09-30 23:03:31+00:00</td>\n",
              "      <td>Imagine covering this #NBAFinals pre-COVID and...</td>\n",
              "      <td>704</td>\n",
              "      <td>836</td>\n",
              "      <td>Hombre De Acero 💥🔗</td>\n",
              "      <td>terence_ray</td>\n",
              "      <td>False</td>\n",
              "      <td>Sep-30</td>\n",
              "      <td>Sep</td>\n",
              "      <td>imagine covering this nbafinals pre covid gett...</td>\n",
              "      <td>[NBAFinals]</td>\n",
              "      <td>imagine covering this nbafinals pre covid gett...</td>\n",
              "    </tr>\n",
              "    <tr>\n",
              "      <th>288625</th>\n",
              "      <td>2020-09-01 01:42:59+00:00</td>\n",
              "      <td>@JohnCornyn FUN FACT\\nCanada Population : 37,5...</td>\n",
              "      <td>5806</td>\n",
              "      <td>6397</td>\n",
              "      <td>Alien Nation Refugee 🇨🇦🌊🧢 💙🌈 #JoeBiden2020</td>\n",
              "      <td>raichle6ix</td>\n",
              "      <td>False</td>\n",
              "      <td>Sep-01</td>\n",
              "      <td>Sep</td>\n",
              "      <td>fact canada population atlanta population cana...</td>\n",
              "      <td>[RepublicanVirus]</td>\n",
              "      <td>fact canada population atlanta population cana...</td>\n",
              "    </tr>\n",
              "    <tr>\n",
              "      <th>83262</th>\n",
              "      <td>2020-09-30 23:19:53+00:00</td>\n",
              "      <td>@Justin_Ling Those of us who have actually rea...</td>\n",
              "      <td>3</td>\n",
              "      <td>159</td>\n",
              "      <td>Tom Daweson</td>\n",
              "      <td>TomDawesonTO</td>\n",
              "      <td>False</td>\n",
              "      <td>Sep-30</td>\n",
              "      <td>Sep</td>\n",
              "      <td>those have actually read krever commission rep...</td>\n",
              "      <td>[]</td>\n",
              "      <td>those have actually read krever commission rep...</td>\n",
              "    </tr>\n",
              "    <tr>\n",
              "      <th>204760</th>\n",
              "      <td>2020-09-01 01:11:41+00:00</td>\n",
              "      <td>I’m still in shock that adam driver joined the...</td>\n",
              "      <td>334</td>\n",
              "      <td>1239</td>\n",
              "      <td>Hånš</td>\n",
              "      <td>ssie_bannion</td>\n",
              "      <td>False</td>\n",
              "      <td>Sep-01</td>\n",
              "      <td>Sep</td>\n",
              "      <td>still shock that adam driver joined military a...</td>\n",
              "      <td>[]</td>\n",
              "      <td>still shock that adam driver joined military a...</td>\n",
              "    </tr>\n",
              "    <tr>\n",
              "      <th>254073</th>\n",
              "      <td>2020-09-01 01:30:05+00:00</td>\n",
              "      <td>Shephard &amp;amp; van Alebeek - Life behind the M...</td>\n",
              "      <td>576</td>\n",
              "      <td>0</td>\n",
              "      <td>Radio On</td>\n",
              "      <td>radio_on_berlin</td>\n",
              "      <td>False</td>\n",
              "      <td>Sep-01</td>\n",
              "      <td>Sep</td>\n",
              "      <td>shephard amp alebeek life behind mask the heal...</td>\n",
              "      <td>[coronavirus, healthmask, Berlinstories]</td>\n",
              "      <td>shephard amp alebeek life behind mask the heal...</td>\n",
              "    </tr>\n",
              "  </tbody>\n",
              "</table>\n",
              "</div>"
            ],
            "text/plain": [
              "                            date  ...                              tweet_cleaned_noemoji\n",
              "46751  2020-09-30 23:03:31+00:00  ...  imagine covering this nbafinals pre covid gett...\n",
              "288625 2020-09-01 01:42:59+00:00  ...  fact canada population atlanta population cana...\n",
              "83262  2020-09-30 23:19:53+00:00  ...  those have actually read krever commission rep...\n",
              "204760 2020-09-01 01:11:41+00:00  ...  still shock that adam driver joined military a...\n",
              "254073 2020-09-01 01:30:05+00:00  ...  shephard amp alebeek life behind mask the heal...\n",
              "\n",
              "[5 rows x 12 columns]"
            ]
          },
          "metadata": {
            "tags": []
          },
          "execution_count": 27
        }
      ]
    },
    {
      "cell_type": "code",
      "metadata": {
        "id": "HCedycMvpaoe"
      },
      "source": [
        "#Baseline solution\n",
        "#VADER sentiment analyzer\n",
        "sia = SentimentIntensityAnalyzer()\n",
        "tweets_sentiment_vader=tweet_data_balanced['tweet_cleaned'].apply(lambda x: sia.polarity_scores(x))"
      ],
      "execution_count": null,
      "outputs": []
    },
    {
      "cell_type": "code",
      "metadata": {
        "id": "RRpIE9nXriGO"
      },
      "source": [
        "tweets_post= pd.concat([tweet_data_balanced,tweets_sentiment_vader.apply(pd.Series)],1)\n"
      ],
      "execution_count": null,
      "outputs": []
    },
    {
      "cell_type": "code",
      "metadata": {
        "id": "BZefGDHFfx3w",
        "colab": {
          "base_uri": "https://localhost:8080/",
          "height": 855
        },
        "outputId": "6c0f4dbf-8778-46e7-ce57-41740afb5a4b"
      },
      "source": [
        "tweets_post.head(10)"
      ],
      "execution_count": null,
      "outputs": [
        {
          "output_type": "execute_result",
          "data": {
            "text/html": [
              "<div>\n",
              "<style scoped>\n",
              "    .dataframe tbody tr th:only-of-type {\n",
              "        vertical-align: middle;\n",
              "    }\n",
              "\n",
              "    .dataframe tbody tr th {\n",
              "        vertical-align: top;\n",
              "    }\n",
              "\n",
              "    .dataframe thead th {\n",
              "        text-align: right;\n",
              "    }\n",
              "</style>\n",
              "<table border=\"1\" class=\"dataframe\">\n",
              "  <thead>\n",
              "    <tr style=\"text-align: right;\">\n",
              "      <th></th>\n",
              "      <th>date</th>\n",
              "      <th>text</th>\n",
              "      <th>user_followers_count</th>\n",
              "      <th>user_friends_count</th>\n",
              "      <th>user_name</th>\n",
              "      <th>user_screen_name</th>\n",
              "      <th>user_verified</th>\n",
              "      <th>month-day</th>\n",
              "      <th>month</th>\n",
              "      <th>tweet_cleaned</th>\n",
              "      <th>hashtag</th>\n",
              "      <th>tweet_cleaned_noemoji</th>\n",
              "      <th>neg</th>\n",
              "      <th>neu</th>\n",
              "      <th>pos</th>\n",
              "      <th>compound</th>\n",
              "    </tr>\n",
              "  </thead>\n",
              "  <tbody>\n",
              "    <tr>\n",
              "      <th>46751</th>\n",
              "      <td>2020-09-30 23:03:31+00:00</td>\n",
              "      <td>Imagine covering this #NBAFinals pre-COVID and...</td>\n",
              "      <td>704</td>\n",
              "      <td>836</td>\n",
              "      <td>Hombre De Acero 💥🔗</td>\n",
              "      <td>terence_ray</td>\n",
              "      <td>False</td>\n",
              "      <td>Sep-30</td>\n",
              "      <td>Sep</td>\n",
              "      <td>imagine covering this nbafinals pre covid gett...</td>\n",
              "      <td>[NBAFinals]</td>\n",
              "      <td>imagine covering this nbafinals pre covid gett...</td>\n",
              "      <td>0.000</td>\n",
              "      <td>0.857</td>\n",
              "      <td>0.143</td>\n",
              "      <td>0.2500</td>\n",
              "    </tr>\n",
              "    <tr>\n",
              "      <th>288625</th>\n",
              "      <td>2020-09-01 01:42:59+00:00</td>\n",
              "      <td>@JohnCornyn FUN FACT\\nCanada Population : 37,5...</td>\n",
              "      <td>5806</td>\n",
              "      <td>6397</td>\n",
              "      <td>Alien Nation Refugee 🇨🇦🌊🧢 💙🌈 #JoeBiden2020</td>\n",
              "      <td>raichle6ix</td>\n",
              "      <td>False</td>\n",
              "      <td>Sep-01</td>\n",
              "      <td>Sep</td>\n",
              "      <td>fact canada population atlanta population cana...</td>\n",
              "      <td>[RepublicanVirus]</td>\n",
              "      <td>fact canada population atlanta population cana...</td>\n",
              "      <td>0.000</td>\n",
              "      <td>1.000</td>\n",
              "      <td>0.000</td>\n",
              "      <td>0.0000</td>\n",
              "    </tr>\n",
              "    <tr>\n",
              "      <th>83262</th>\n",
              "      <td>2020-09-30 23:19:53+00:00</td>\n",
              "      <td>@Justin_Ling Those of us who have actually rea...</td>\n",
              "      <td>3</td>\n",
              "      <td>159</td>\n",
              "      <td>Tom Daweson</td>\n",
              "      <td>TomDawesonTO</td>\n",
              "      <td>False</td>\n",
              "      <td>Sep-30</td>\n",
              "      <td>Sep</td>\n",
              "      <td>those have actually read krever commission rep...</td>\n",
              "      <td>[]</td>\n",
              "      <td>those have actually read krever commission rep...</td>\n",
              "      <td>0.180</td>\n",
              "      <td>0.820</td>\n",
              "      <td>0.000</td>\n",
              "      <td>-0.6697</td>\n",
              "    </tr>\n",
              "    <tr>\n",
              "      <th>204760</th>\n",
              "      <td>2020-09-01 01:11:41+00:00</td>\n",
              "      <td>I’m still in shock that adam driver joined the...</td>\n",
              "      <td>334</td>\n",
              "      <td>1239</td>\n",
              "      <td>Hånš</td>\n",
              "      <td>ssie_bannion</td>\n",
              "      <td>False</td>\n",
              "      <td>Sep-01</td>\n",
              "      <td>Sep</td>\n",
              "      <td>still shock that adam driver joined military a...</td>\n",
              "      <td>[]</td>\n",
              "      <td>still shock that adam driver joined military a...</td>\n",
              "      <td>0.415</td>\n",
              "      <td>0.585</td>\n",
              "      <td>0.000</td>\n",
              "      <td>-0.8176</td>\n",
              "    </tr>\n",
              "    <tr>\n",
              "      <th>254073</th>\n",
              "      <td>2020-09-01 01:30:05+00:00</td>\n",
              "      <td>Shephard &amp;amp; van Alebeek - Life behind the M...</td>\n",
              "      <td>576</td>\n",
              "      <td>0</td>\n",
              "      <td>Radio On</td>\n",
              "      <td>radio_on_berlin</td>\n",
              "      <td>False</td>\n",
              "      <td>Sep-01</td>\n",
              "      <td>Sep</td>\n",
              "      <td>shephard amp alebeek life behind mask the heal...</td>\n",
              "      <td>[coronavirus, healthmask, Berlinstories]</td>\n",
              "      <td>shephard amp alebeek life behind mask the heal...</td>\n",
              "      <td>0.000</td>\n",
              "      <td>1.000</td>\n",
              "      <td>0.000</td>\n",
              "      <td>0.0000</td>\n",
              "    </tr>\n",
              "    <tr>\n",
              "      <th>731767</th>\n",
              "      <td>2020-05-30 16:51:56+00:00</td>\n",
              "      <td>@AdvisoryNess @ShawnChurchill @TrumpLasVegas @...</td>\n",
              "      <td>404</td>\n",
              "      <td>1899</td>\n",
              "      <td>Ayfkm</td>\n",
              "      <td>ayfkmnow</td>\n",
              "      <td>False</td>\n",
              "      <td>May-30</td>\n",
              "      <td>May</td>\n",
              "      <td>irony coming middle ultimate failure handling ...</td>\n",
              "      <td>[]</td>\n",
              "      <td>irony coming middle ultimate failure handling ...</td>\n",
              "      <td>0.162</td>\n",
              "      <td>0.722</td>\n",
              "      <td>0.116</td>\n",
              "      <td>-0.0772</td>\n",
              "    </tr>\n",
              "    <tr>\n",
              "      <th>658972</th>\n",
              "      <td>2020-03-11 20:04:48+00:00</td>\n",
              "      <td>get tae out of there thank you https://t.co/ZA...</td>\n",
              "      <td>283</td>\n",
              "      <td>234</td>\n",
              "      <td>sսsa⁷𐤀</td>\n",
              "      <td>taehyungweeb</td>\n",
              "      <td>False</td>\n",
              "      <td>Mar-11</td>\n",
              "      <td>Mar</td>\n",
              "      <td>there thank https t co zaqkhcnpa</td>\n",
              "      <td>[]</td>\n",
              "      <td>there thank https t co zaqkhcnpa</td>\n",
              "      <td>0.000</td>\n",
              "      <td>0.615</td>\n",
              "      <td>0.385</td>\n",
              "      <td>0.3612</td>\n",
              "    </tr>\n",
              "    <tr>\n",
              "      <th>94887</th>\n",
              "      <td>2020-09-30 23:25:03+00:00</td>\n",
              "      <td>RT @Jpompia: First pandemic, now smoke...from ...</td>\n",
              "      <td>620</td>\n",
              "      <td>116</td>\n",
              "      <td>Tracy Harmon</td>\n",
              "      <td>tracywumps</td>\n",
              "      <td>False</td>\n",
              "      <td>Sep-30</td>\n",
              "      <td>Sep</td>\n",
              "      <td>first pandemic smoke from million acres have b...</td>\n",
              "      <td>[]</td>\n",
              "      <td>first pandemic smoke from million acres have b...</td>\n",
              "      <td>0.000</td>\n",
              "      <td>1.000</td>\n",
              "      <td>0.000</td>\n",
              "      <td>0.0000</td>\n",
              "    </tr>\n",
              "    <tr>\n",
              "      <th>358078</th>\n",
              "      <td>2020-04-15 14:25:51+00:00</td>\n",
              "      <td>@qtum I think Qtum is great, maybe start some ...</td>\n",
              "      <td>524</td>\n",
              "      <td>804</td>\n",
              "      <td>Lilging777</td>\n",
              "      <td>jorgvanhaaren</td>\n",
              "      <td>False</td>\n",
              "      <td>Apr-15</td>\n",
              "      <td>Apr</td>\n",
              "      <td>think qtum great maybe start some live video s...</td>\n",
              "      <td>[]</td>\n",
              "      <td>think qtum great maybe start some live video s...</td>\n",
              "      <td>0.000</td>\n",
              "      <td>0.843</td>\n",
              "      <td>0.157</td>\n",
              "      <td>0.6249</td>\n",
              "    </tr>\n",
              "    <tr>\n",
              "      <th>223297</th>\n",
              "      <td>2020-09-01 01:18:37+00:00</td>\n",
              "      <td>I'm so excited for fall. It's one of my fav se...</td>\n",
              "      <td>698</td>\n",
              "      <td>668</td>\n",
              "      <td>ScareJo🎃👻👽</td>\n",
              "      <td>jojosephs2020</td>\n",
              "      <td>False</td>\n",
              "      <td>Sep-01</td>\n",
              "      <td>Sep</td>\n",
              "      <td>excited fall it s seasons even corona can t stop</td>\n",
              "      <td>[]</td>\n",
              "      <td>excited fall it s seasons even corona can t stop</td>\n",
              "      <td>0.208</td>\n",
              "      <td>0.566</td>\n",
              "      <td>0.226</td>\n",
              "      <td>0.0516</td>\n",
              "    </tr>\n",
              "  </tbody>\n",
              "</table>\n",
              "</div>"
            ],
            "text/plain": [
              "                            date  ... compound\n",
              "46751  2020-09-30 23:03:31+00:00  ...   0.2500\n",
              "288625 2020-09-01 01:42:59+00:00  ...   0.0000\n",
              "83262  2020-09-30 23:19:53+00:00  ...  -0.6697\n",
              "204760 2020-09-01 01:11:41+00:00  ...  -0.8176\n",
              "254073 2020-09-01 01:30:05+00:00  ...   0.0000\n",
              "731767 2020-05-30 16:51:56+00:00  ...  -0.0772\n",
              "658972 2020-03-11 20:04:48+00:00  ...   0.3612\n",
              "94887  2020-09-30 23:25:03+00:00  ...   0.0000\n",
              "358078 2020-04-15 14:25:51+00:00  ...   0.6249\n",
              "223297 2020-09-01 01:18:37+00:00  ...   0.0516\n",
              "\n",
              "[10 rows x 16 columns]"
            ]
          },
          "metadata": {
            "tags": []
          },
          "execution_count": 30
        }
      ]
    },
    {
      "cell_type": "code",
      "metadata": {
        "id": "sn5rVxkA2vhA"
      },
      "source": [
        "#Create new feature with sentiment score\n",
        "sentiment=[]\n",
        "for i in tweets_post['compound']:\n",
        "    if i>0.05:\n",
        "        sentiment.append('positive')\n",
        "    elif i > -0.05 and i < 0.05:\n",
        "        sentiment.append('neutral')\n",
        "    else:\n",
        "        sentiment.append('negative')\n",
        "tweets_post['sentiment']=sentiment\n"
      ],
      "execution_count": null,
      "outputs": []
    },
    {
      "cell_type": "code",
      "metadata": {
        "id": "7tRLI0ruuFS6",
        "colab": {
          "base_uri": "https://localhost:8080/",
          "height": 530
        },
        "outputId": "92c48e5b-0567-4463-e8b7-6fe61f45fdcd"
      },
      "source": [
        "tweets_post.head()"
      ],
      "execution_count": null,
      "outputs": [
        {
          "output_type": "execute_result",
          "data": {
            "text/html": [
              "<div>\n",
              "<style scoped>\n",
              "    .dataframe tbody tr th:only-of-type {\n",
              "        vertical-align: middle;\n",
              "    }\n",
              "\n",
              "    .dataframe tbody tr th {\n",
              "        vertical-align: top;\n",
              "    }\n",
              "\n",
              "    .dataframe thead th {\n",
              "        text-align: right;\n",
              "    }\n",
              "</style>\n",
              "<table border=\"1\" class=\"dataframe\">\n",
              "  <thead>\n",
              "    <tr style=\"text-align: right;\">\n",
              "      <th></th>\n",
              "      <th>date</th>\n",
              "      <th>text</th>\n",
              "      <th>user_followers_count</th>\n",
              "      <th>user_friends_count</th>\n",
              "      <th>user_name</th>\n",
              "      <th>user_screen_name</th>\n",
              "      <th>user_verified</th>\n",
              "      <th>month-day</th>\n",
              "      <th>month</th>\n",
              "      <th>tweet_cleaned</th>\n",
              "      <th>hashtag</th>\n",
              "      <th>tweet_cleaned_noemoji</th>\n",
              "      <th>neg</th>\n",
              "      <th>neu</th>\n",
              "      <th>pos</th>\n",
              "      <th>compound</th>\n",
              "      <th>sentiment</th>\n",
              "    </tr>\n",
              "  </thead>\n",
              "  <tbody>\n",
              "    <tr>\n",
              "      <th>46751</th>\n",
              "      <td>2020-09-30 23:03:31+00:00</td>\n",
              "      <td>Imagine covering this #NBAFinals pre-COVID and...</td>\n",
              "      <td>704</td>\n",
              "      <td>836</td>\n",
              "      <td>Hombre De Acero 💥🔗</td>\n",
              "      <td>terence_ray</td>\n",
              "      <td>False</td>\n",
              "      <td>Sep-30</td>\n",
              "      <td>Sep</td>\n",
              "      <td>imagine covering this nbafinals pre covid gett...</td>\n",
              "      <td>[NBAFinals]</td>\n",
              "      <td>imagine covering this nbafinals pre covid gett...</td>\n",
              "      <td>0.000</td>\n",
              "      <td>0.857</td>\n",
              "      <td>0.143</td>\n",
              "      <td>0.2500</td>\n",
              "      <td>positive</td>\n",
              "    </tr>\n",
              "    <tr>\n",
              "      <th>288625</th>\n",
              "      <td>2020-09-01 01:42:59+00:00</td>\n",
              "      <td>@JohnCornyn FUN FACT\\nCanada Population : 37,5...</td>\n",
              "      <td>5806</td>\n",
              "      <td>6397</td>\n",
              "      <td>Alien Nation Refugee 🇨🇦🌊🧢 💙🌈 #JoeBiden2020</td>\n",
              "      <td>raichle6ix</td>\n",
              "      <td>False</td>\n",
              "      <td>Sep-01</td>\n",
              "      <td>Sep</td>\n",
              "      <td>fact canada population atlanta population cana...</td>\n",
              "      <td>[RepublicanVirus]</td>\n",
              "      <td>fact canada population atlanta population cana...</td>\n",
              "      <td>0.000</td>\n",
              "      <td>1.000</td>\n",
              "      <td>0.000</td>\n",
              "      <td>0.0000</td>\n",
              "      <td>neutral</td>\n",
              "    </tr>\n",
              "    <tr>\n",
              "      <th>83262</th>\n",
              "      <td>2020-09-30 23:19:53+00:00</td>\n",
              "      <td>@Justin_Ling Those of us who have actually rea...</td>\n",
              "      <td>3</td>\n",
              "      <td>159</td>\n",
              "      <td>Tom Daweson</td>\n",
              "      <td>TomDawesonTO</td>\n",
              "      <td>False</td>\n",
              "      <td>Sep-30</td>\n",
              "      <td>Sep</td>\n",
              "      <td>those have actually read krever commission rep...</td>\n",
              "      <td>[]</td>\n",
              "      <td>those have actually read krever commission rep...</td>\n",
              "      <td>0.180</td>\n",
              "      <td>0.820</td>\n",
              "      <td>0.000</td>\n",
              "      <td>-0.6697</td>\n",
              "      <td>negative</td>\n",
              "    </tr>\n",
              "    <tr>\n",
              "      <th>204760</th>\n",
              "      <td>2020-09-01 01:11:41+00:00</td>\n",
              "      <td>I’m still in shock that adam driver joined the...</td>\n",
              "      <td>334</td>\n",
              "      <td>1239</td>\n",
              "      <td>Hånš</td>\n",
              "      <td>ssie_bannion</td>\n",
              "      <td>False</td>\n",
              "      <td>Sep-01</td>\n",
              "      <td>Sep</td>\n",
              "      <td>still shock that adam driver joined military a...</td>\n",
              "      <td>[]</td>\n",
              "      <td>still shock that adam driver joined military a...</td>\n",
              "      <td>0.415</td>\n",
              "      <td>0.585</td>\n",
              "      <td>0.000</td>\n",
              "      <td>-0.8176</td>\n",
              "      <td>negative</td>\n",
              "    </tr>\n",
              "    <tr>\n",
              "      <th>254073</th>\n",
              "      <td>2020-09-01 01:30:05+00:00</td>\n",
              "      <td>Shephard &amp;amp; van Alebeek - Life behind the M...</td>\n",
              "      <td>576</td>\n",
              "      <td>0</td>\n",
              "      <td>Radio On</td>\n",
              "      <td>radio_on_berlin</td>\n",
              "      <td>False</td>\n",
              "      <td>Sep-01</td>\n",
              "      <td>Sep</td>\n",
              "      <td>shephard amp alebeek life behind mask the heal...</td>\n",
              "      <td>[coronavirus, healthmask, Berlinstories]</td>\n",
              "      <td>shephard amp alebeek life behind mask the heal...</td>\n",
              "      <td>0.000</td>\n",
              "      <td>1.000</td>\n",
              "      <td>0.000</td>\n",
              "      <td>0.0000</td>\n",
              "      <td>neutral</td>\n",
              "    </tr>\n",
              "  </tbody>\n",
              "</table>\n",
              "</div>"
            ],
            "text/plain": [
              "                            date  ... sentiment\n",
              "46751  2020-09-30 23:03:31+00:00  ...  positive\n",
              "288625 2020-09-01 01:42:59+00:00  ...   neutral\n",
              "83262  2020-09-30 23:19:53+00:00  ...  negative\n",
              "204760 2020-09-01 01:11:41+00:00  ...  negative\n",
              "254073 2020-09-01 01:30:05+00:00  ...   neutral\n",
              "\n",
              "[5 rows x 17 columns]"
            ]
          },
          "metadata": {
            "tags": []
          },
          "execution_count": 32
        }
      ]
    },
    {
      "cell_type": "code",
      "metadata": {
        "id": "IxNR5Dl9uSEh",
        "colab": {
          "base_uri": "https://localhost:8080/"
        },
        "outputId": "8a166413-1ab6-494a-ed19-666123615dad"
      },
      "source": [
        "print(\"Total number of tweets:  %s\" % str(len(tweets_post.index)))\n",
        "\n",
        "tweets_post_positive = tweets_post[tweets_post['sentiment'] == 'positive']\n",
        "print(\"Number of Positive tweets: %s\" % str(len(tweets_post_positive.index)))\n",
        "\n",
        "tweets_post_negative = tweets_post[tweets_post['sentiment'] == 'negative']\n",
        "print(\"Number of Negative tweets: %s\" % str(len(tweets_post_negative.index)))\n",
        "\n",
        "tweets_post_neutral = tweets_post[tweets_post['sentiment'] == 'neutral']\n",
        "print(\"Number of Neutral tweets: %s\" % str(len(tweets_post_neutral.index)))"
      ],
      "execution_count": null,
      "outputs": [
        {
          "output_type": "stream",
          "text": [
            "Total number of tweets:  140413\n",
            "Number of Positive tweets: 49781\n",
            "Number of Negative tweets: 50682\n",
            "Number of Neutral tweets: 39950\n"
          ],
          "name": "stdout"
        }
      ]
    },
    {
      "cell_type": "code",
      "metadata": {
        "id": "lFo7tWb3vkPq",
        "colab": {
          "base_uri": "https://localhost:8080/",
          "height": 739
        },
        "outputId": "f304877a-817d-4405-97ff-cd361c30190c"
      },
      "source": [
        "order = ['Jan', 'Feb', 'Mar','Apr','May','Jun','Sep']\n",
        "plot_tweet_date = tweets_post.groupby(['month', 'sentiment']).size().reset_index().pivot(columns='sentiment', index='month', values=0).loc[order].plot(kind='bar',colormap='coolwarm', stacked=True,figsize=(10,10))\n",
        "#plot_tweet_date = tweets_post.groupby(['month', 'sentiment']).size().reset_index().pivot(columns='sentiment', index='month', values=0).plot(kind='bar',colormap='coolwarm', stacked=True,figsize=(10,10))\n",
        "plot_tweet_date.set_xlabel(\"Month\", fontsize= 20)\n",
        "plot_tweet_date.set_ylabel(\"Tweet count\", fontsize= 20)\n",
        "\n",
        "plot_tweet_date.set_title(\"Sentiment of the Tweets from January-June and September 2020\", fontname='Arial', fontsize=22)\n",
        "\n",
        "# Set the font name for axis tick labels to be Comic Sans\n",
        "for tick in plot_tweet_date.get_xticklabels():\n",
        "    tick.set_fontname(\"Arial\")\n",
        "for tick in plot_tweet_date.get_yticklabels():\n",
        "    tick.set_fontname(\"Arial\")\n",
        "    \n",
        "plt.xticks(fontsize= 20)\n",
        "plt.yticks(fontsize= 20)  \n",
        "\n",
        "\n",
        "\n",
        "#plt.savefig(\"Sentiment of the Tweets from January-June and September 2020.png\", format='png', dpi=500)"
      ],
      "execution_count": null,
      "outputs": [
        {
          "output_type": "execute_result",
          "data": {
            "text/plain": [
              "(array([    0.,  2500.,  5000.,  7500., 10000., 12500., 15000., 17500.,\n",
              "        20000., 22500.]), <a list of 10 Text major ticklabel objects>)"
            ]
          },
          "metadata": {
            "tags": []
          },
          "execution_count": 34
        },
        {
          "output_type": "stream",
          "text": [
            "findfont: Font family ['Arial'] not found. Falling back to DejaVu Sans.\n",
            "findfont: Font family ['Arial'] not found. Falling back to DejaVu Sans.\n"
          ],
          "name": "stderr"
        },
        {
          "output_type": "display_data",
          "data": {
            "image/png": "[encoded data removed]",
            "text/plain": [
              "<Figure size 720x720 with 1 Axes>"
            ]
          },
          "metadata": {
            "tags": [],
            "needs_background": "light"
          }
        }
      ]
    },
    {
      "cell_type": "code",
      "metadata": {
        "id": "RCYAgJRs0EIR"
      },
      "source": [
        "#get tweets for just march \n",
        "tweets_post_mar= tweets_post[(tweets_post['month']=='Mar')]"
      ],
      "execution_count": null,
      "outputs": []
    },
    {
      "cell_type": "code",
      "metadata": {
        "id": "K8W0CPuw0MNo",
        "colab": {
          "base_uri": "https://localhost:8080/"
        },
        "outputId": "2afd9835-10d2-4726-d903-888ac68d88aa"
      },
      "source": [
        "#check counts to rebalance \n",
        "tweets_post_mar['month-day'].value_counts()"
      ],
      "execution_count": null,
      "outputs": [
        {
          "output_type": "execute_result",
          "data": {
            "text/plain": [
              "Mar-31    6977\n",
              "Mar-01    6663\n",
              "Mar-11    3506\n",
              "Mar-15    2913\n",
              "Name: month-day, dtype: int64"
            ]
          },
          "metadata": {
            "tags": []
          },
          "execution_count": 36
        }
      ]
    },
    {
      "cell_type": "code",
      "metadata": {
        "id": "Gq-Hk-s90Wkc"
      },
      "source": [
        "#balance based on lowest number\n",
        "tweets_post_mar_balanced=tweets_post_mar.groupby('month-day').head(2913)"
      ],
      "execution_count": null,
      "outputs": []
    },
    {
      "cell_type": "code",
      "metadata": {
        "id": "T6R0-Dqr1Bt1",
        "colab": {
          "base_uri": "https://localhost:8080/",
          "height": 730
        },
        "outputId": "60542175-4e32-4fcd-b184-150170f2398f"
      },
      "source": [
        "#order = ['Jan', 'Feb', 'Mar','Apr','May','Jun','Sep']\n",
        "plot_tweet_march = tweets_post_mar_balanced.groupby(['month-day', 'sentiment']).size().reset_index().pivot(columns='sentiment', index='month-day', values=0).plot(kind='bar',colormap='coolwarm', stacked=True,figsize=(10,10))\n",
        "plot_tweet_march.set_xlabel(\"Month\", fontsize= 20)\n",
        "plot_tweet_march.set_ylabel(\"Tweet count\", fontsize= 20)\n",
        "\n",
        "plot_tweet_march.set_title(\"Sentiment of the Tweets in March 2020\", fontname='Arial', fontsize=22)\n",
        "\n",
        "# Set the font name for axis tick labels to be Comic Sans\n",
        "for tick in plot_tweet_march.get_xticklabels():\n",
        "    tick.set_fontname(\"Arial\")\n",
        "for tick in plot_tweet_march.get_yticklabels():\n",
        "    tick.set_fontname(\"Arial\")\n",
        "    \n",
        "plt.xticks(fontsize= 20)\n",
        "plt.yticks(fontsize= 20)  \n",
        "\n",
        "\n",
        "\n",
        "#plt.savefig('Sentiment of the Tweets in March 2020.png', format='png', dpi=500)"
      ],
      "execution_count": null,
      "outputs": [
        {
          "output_type": "execute_result",
          "data": {
            "text/plain": [
              "(array([   0.,  500., 1000., 1500., 2000., 2500., 3000., 3500.]),\n",
              " <a list of 8 Text major ticklabel objects>)"
            ]
          },
          "metadata": {
            "tags": []
          },
          "execution_count": 38
        },
        {
          "output_type": "display_data",
          "data": {
            "image/png": "[encoded data removed]",
            "text/plain": [
              "<Figure size 720x720 with 1 Axes>"
            ]
          },
          "metadata": {
            "tags": [],
            "needs_background": "light"
          }
        }
      ]
    },
    {
      "cell_type": "code",
      "metadata": {
        "id": "Ii5ytQm4B2OX",
        "colab": {
          "base_uri": "https://localhost:8080/",
          "height": 685
        },
        "outputId": "8e442c7f-efd7-48b1-c273-8aacbcabf37c"
      },
      "source": [
        "#distribution of tweets\n",
        "order = ['Jan', 'Feb', 'Mar','Apr','May','Jun','Sep']\n",
        "month_plot=tweet_data_pre['month'].value_counts().sort_index().loc[order].plot(kind='bar', figsize=(10,10), cmap= 'Paired')\n",
        "\n",
        "month_plot.set_xlabel(\"\")\n",
        "\n",
        "month_plot.set_title(\"Tweet Count by Month before Balancing Dataset\", fontname='Arial', fontsize=22)\n",
        "\n",
        "# Set the font name for axis tick labels to be Comic Sans\n",
        "for tick in month_plot.get_xticklabels():\n",
        "    tick.set_fontname(\"Arial\")\n",
        "for tick in month_plot.get_yticklabels():\n",
        "    tick.set_fontname(\"Arial\")\n",
        "    \n",
        "plt.xticks(fontsize= 20)\n",
        "plt.yticks(fontsize= 20)  \n",
        "plt.xlabel(\"month\", fontsize=20)\n",
        "plt.ylabel(\"Number of Tweets\", fontsize=20)"
      ],
      "execution_count": null,
      "outputs": [
        {
          "output_type": "execute_result",
          "data": {
            "text/plain": [
              "Text(0, 0.5, 'Number of Tweets')"
            ]
          },
          "metadata": {
            "tags": []
          },
          "execution_count": 39
        },
        {
          "output_type": "display_data",
          "data": {
            "image/png": "[encoded data removed]",
            "text/plain": [
              "<Figure size 720x720 with 1 Axes>"
            ]
          },
          "metadata": {
            "tags": [],
            "needs_background": "light"
          }
        }
      ]
    },
    {
      "cell_type": "code",
      "metadata": {
        "id": "8rIlm87Gzwc5",
        "colab": {
          "base_uri": "https://localhost:8080/",
          "height": 685
        },
        "outputId": "9dff7c3e-e480-4197-9b2d-3aae884c74e8"
      },
      "source": [
        "#distribution of tweets\n",
        "order = ['Jan', 'Feb', 'Mar','Apr','May','Jun','Sep']\n",
        "month_plot=tweet_data_balanced['month'].value_counts().sort_index().loc[order].plot(kind='bar', figsize=(10,10), cmap= 'Paired')\n",
        "\n",
        "month_plot.set_xlabel(\"\")\n",
        "\n",
        "month_plot.set_title(\"Tweet Count by Month after Balancing Dataset\", fontname='Arial', fontsize=22)\n",
        "\n",
        "# Set the font name for axis tick labels to be Comic Sans\n",
        "for tick in month_plot.get_xticklabels():\n",
        "    tick.set_fontname(\"Arial\")\n",
        "for tick in month_plot.get_yticklabels():\n",
        "    tick.set_fontname(\"Arial\")\n",
        "    \n",
        "plt.xticks(fontsize= 20)\n",
        "plt.yticks(fontsize= 20)  \n",
        "plt.xlabel(\"month\", fontsize=20)\n",
        "plt.ylabel(\"Number of Tweets\", fontsize=20)"
      ],
      "execution_count": null,
      "outputs": [
        {
          "output_type": "execute_result",
          "data": {
            "text/plain": [
              "Text(0, 0.5, 'Number of Tweets')"
            ]
          },
          "metadata": {
            "tags": []
          },
          "execution_count": 40
        },
        {
          "output_type": "display_data",
          "data": {
            "image/png": "[encoded data removed]",
            "text/plain": [
              "<Figure size 720x720 with 1 Axes>"
            ]
          },
          "metadata": {
            "tags": [],
            "needs_background": "light"
          }
        }
      ]
    },
    {
      "cell_type": "code",
      "metadata": {
        "id": "lm5yRg7qD02C"
      },
      "source": [
        ""
      ],
      "execution_count": null,
      "outputs": []
    },
    {
      "cell_type": "markdown",
      "metadata": {
        "id": "dFcXetEgzYCN"
      },
      "source": [
        "## Data with labels \n"
      ]
    },
    {
      "cell_type": "code",
      "metadata": {
        "id": "ok6e6TpYxfqD"
      },
      "source": [
        "#Tweets with labels"
      ],
      "execution_count": null,
      "outputs": []
    },
    {
      "cell_type": "code",
      "metadata": {
        "id": "UOs5oiEhxfwY",
        "colab": {
          "base_uri": "https://localhost:8080/"
        },
        "outputId": "e2f5c140-4703-43b1-9b11-97f67a4eddbc"
      },
      "source": [
        "tweet_data_withlabels.shape"
      ],
      "execution_count": null,
      "outputs": [
        {
          "output_type": "execute_result",
          "data": {
            "text/plain": [
              "(1136692, 35)"
            ]
          },
          "metadata": {
            "tags": []
          },
          "execution_count": 42
        }
      ]
    },
    {
      "cell_type": "code",
      "metadata": {
        "id": "eyXcGPHxxf2J"
      },
      "source": [
        "#Subset necessary features of interest\n",
        "tweets_with_labels= tweet_data_withlabels[['user_screen_name','text', 'user_friends_count', 'user_followers_count','user_verified','lang', 'sentiment_score']]"
      ],
      "execution_count": null,
      "outputs": []
    },
    {
      "cell_type": "code",
      "metadata": {
        "id": "mE5tzwM1xf74"
      },
      "source": [
        "#subset to only include english tweets\n",
        "tweets_with_labels= tweets_with_labels[(tweets_with_labels['lang']=='en')]"
      ],
      "execution_count": null,
      "outputs": []
    },
    {
      "cell_type": "code",
      "metadata": {
        "id": "IX2yh8xkxf-w",
        "colab": {
          "base_uri": "https://localhost:8080/"
        },
        "outputId": "14fab6f1-67d7-44fb-b81b-63915cc26535"
      },
      "source": [
        "##total features and rows for english only\n",
        "tweets_with_labels.shape"
      ],
      "execution_count": null,
      "outputs": [
        {
          "output_type": "execute_result",
          "data": {
            "text/plain": [
              "(852493, 7)"
            ]
          },
          "metadata": {
            "tags": []
          },
          "execution_count": 45
        }
      ]
    },
    {
      "cell_type": "code",
      "metadata": {
        "id": "IXEM34FbxgBj"
      },
      "source": [
        "#check if there are any duplicates in the tweets\n",
        "tweets_with_labels['text'].duplicated().any()\n",
        "#drop duplicates from tweets\n",
        "tweets_with_labels=tweets_with_labels.drop_duplicates(['text'], keep='last')\n",
        "#drop lang column\n",
        "tweets_with_labels=tweets_with_labels[tweets_with_labels.columns.difference(['lang'])]\n"
      ],
      "execution_count": null,
      "outputs": []
    },
    {
      "cell_type": "code",
      "metadata": {
        "id": "lcgR3djx_oOa"
      },
      "source": [
        "#Cleaning \n",
        "tweets_with_labels['tweet_cleaned'] = np.vectorize(remove_pattern)(tweets_with_labels['text'], \"@[\\w]*\")"
      ],
      "execution_count": null,
      "outputs": []
    },
    {
      "cell_type": "code",
      "metadata": {
        "id": "N40rKIRcxgEP"
      },
      "source": [
        "#Capture hashtags\n",
        "tweets_with_labels['hashtag'] = tweets_with_labels['tweet_cleaned'].apply(lambda x: re.findall(r\"#(\\w+)\", x))\n",
        "#remove emoticon\n",
        "tweets_with_labels['tweet_cleaned']=tweets_with_labels['tweet_cleaned'].str.replace(\"([?:[<>]?[:;=8][\\-o\\*\\']?[\\)\\]|\\(\\[dDpPo\\/\\:\\}\\{@\\|\\\\]|[\\)\\]\\(\\[dDpP\\/\\:\\}\\{@\\|\\\\][\\-o\\*\\']?[:;=8][<>]?|[<3]])+\", \"\")\n",
        "#remove digits\n",
        "tweets_with_labels['tweet_cleaned']=tweets_with_labels['tweet_cleaned'].str.replace(\"([0-7]+|[9]+)\", \"\")\n",
        "#remove tags\n",
        "tweets_with_labels['tweet_cleaned']=tweets_with_labels['tweet_cleaned'].str.replace(\"(?:<[^>]+>)\",\"\")\n",
        "#remove RT\n",
        "tweets_with_labels['tweet_cleaned'] = tweets_with_labels['tweet_cleaned'] .apply(lambda x: ' '.join([w for w in x.split() if len(w)>3]))\n",
        "# remove special characters, numbers, punctuations\n",
        "tweets_with_labels['tweet_cleaned'] = tweets_with_labels['tweet_cleaned'].str.replace('\\W+', ' ')\n",
        "#lower case \n",
        "tweets_with_labels['tweet_cleaned'] = tweets_with_labels['tweet_cleaned'].str.lower()\n"
      ],
      "execution_count": null,
      "outputs": []
    },
    {
      "cell_type": "code",
      "metadata": {
        "id": "FipCCZaD16Q0"
      },
      "source": [
        "#remove emojis\n",
        "tweets_with_labels['tweet_cleaned_noemoji']=tweets_with_labels['tweet_cleaned'].str.replace(emoji.get_emoji_regexp(),\"\")"
      ],
      "execution_count": null,
      "outputs": []
    },
    {
      "cell_type": "code",
      "metadata": {
        "id": "Tpy4AMcD1CZD"
      },
      "source": [
        ""
      ],
      "execution_count": null,
      "outputs": []
    },
    {
      "cell_type": "code",
      "metadata": {
        "id": "c72F2cexxgGk"
      },
      "source": [
        "#Fix labels of sentiment score\n",
        "sentiment_labels=[]\n",
        "for i in tweets_with_labels['sentiment_score']:\n",
        "    if i>0.05:\n",
        "        sentiment_labels.append('positive')\n",
        "    elif i > -0.05 and i < 0.05:\n",
        "        sentiment_labels.append('neutral')\n",
        "    else:\n",
        "        sentiment_labels.append('negative')\n",
        "tweets_with_labels['sentiment']=sentiment_labels"
      ],
      "execution_count": null,
      "outputs": []
    },
    {
      "cell_type": "code",
      "metadata": {
        "id": "G4kjE_DjxGI2",
        "colab": {
          "base_uri": "https://localhost:8080/",
          "height": 496
        },
        "outputId": "b82224ae-5dd4-4548-89e2-8dab682ba877"
      },
      "source": [
        "tweets_with_labels.head(5)"
      ],
      "execution_count": null,
      "outputs": [
        {
          "output_type": "execute_result",
          "data": {
            "text/html": [
              "<div>\n",
              "<style scoped>\n",
              "    .dataframe tbody tr th:only-of-type {\n",
              "        vertical-align: middle;\n",
              "    }\n",
              "\n",
              "    .dataframe tbody tr th {\n",
              "        vertical-align: top;\n",
              "    }\n",
              "\n",
              "    .dataframe thead th {\n",
              "        text-align: right;\n",
              "    }\n",
              "</style>\n",
              "<table border=\"1\" class=\"dataframe\">\n",
              "  <thead>\n",
              "    <tr style=\"text-align: right;\">\n",
              "      <th></th>\n",
              "      <th>sentiment_score</th>\n",
              "      <th>text</th>\n",
              "      <th>user_followers_count</th>\n",
              "      <th>user_friends_count</th>\n",
              "      <th>user_screen_name</th>\n",
              "      <th>user_verified</th>\n",
              "      <th>tweet_cleaned</th>\n",
              "      <th>hashtag</th>\n",
              "      <th>tweet_cleaned_noemoji</th>\n",
              "      <th>sentiment</th>\n",
              "    </tr>\n",
              "  </thead>\n",
              "  <tbody>\n",
              "    <tr>\n",
              "      <th>975312</th>\n",
              "      <td>-0.066667</td>\n",
              "      <td>me with my whole body aching: “omg corona viru...</td>\n",
              "      <td>23223.0</td>\n",
              "      <td>5772.0</td>\n",
              "      <td>kissyjonas</td>\n",
              "      <td>False</td>\n",
              "      <td>with whole body aching omg corona virus no it ...</td>\n",
              "      <td>[]</td>\n",
              "      <td>with whole body aching omg corona virus no it ...</td>\n",
              "      <td>negative</td>\n",
              "    </tr>\n",
              "    <tr>\n",
              "      <th>732908</th>\n",
              "      <td>1.000000</td>\n",
              "      <td>This is. the best way.  to save from Corona ht...</td>\n",
              "      <td>219.0</td>\n",
              "      <td>187.0</td>\n",
              "      <td>khanbetanigmai1</td>\n",
              "      <td>False</td>\n",
              "      <td>this best way save from corona https t co pnmq...</td>\n",
              "      <td>[]</td>\n",
              "      <td>this best way save from corona https t co pnmq...</td>\n",
              "      <td>positive</td>\n",
              "    </tr>\n",
              "    <tr>\n",
              "      <th>961592</th>\n",
              "      <td>-0.166667</td>\n",
              "      <td>Such people are irresponsible .. and they can'...</td>\n",
              "      <td>12.0</td>\n",
              "      <td>161.0</td>\n",
              "      <td>Rahul27021991</td>\n",
              "      <td>False</td>\n",
              "      <td>such people irresponsible they can t accept th...</td>\n",
              "      <td>[]</td>\n",
              "      <td>such people irresponsible they can t accept th...</td>\n",
              "      <td>negative</td>\n",
              "    </tr>\n",
              "    <tr>\n",
              "      <th>361248</th>\n",
              "      <td>0.125000</td>\n",
              "      <td>State of #Berlin (not to be confused with Germ...</td>\n",
              "      <td>4634.0</td>\n",
              "      <td>675.0</td>\n",
              "      <td>startuprad_io</td>\n",
              "      <td>False</td>\n",
              "      <td>state berlin not confused with germany receive...</td>\n",
              "      <td>[Berlin, TechNews, startups, startupnews, busi...</td>\n",
              "      <td>state berlin not confused with germany receive...</td>\n",
              "      <td>positive</td>\n",
              "    </tr>\n",
              "    <tr>\n",
              "      <th>502437</th>\n",
              "      <td>-0.600000</td>\n",
              "      <td>@_thaprettyone Yea since corona, ughhhh this d...</td>\n",
              "      <td>1381.0</td>\n",
              "      <td>650.0</td>\n",
              "      <td>A_RealHippie</td>\n",
              "      <td>False</td>\n",
              "      <td>since corona ughhhh this depressing</td>\n",
              "      <td>[]</td>\n",
              "      <td>since corona ughhhh this depressing</td>\n",
              "      <td>negative</td>\n",
              "    </tr>\n",
              "  </tbody>\n",
              "</table>\n",
              "</div>"
            ],
            "text/plain": [
              "        sentiment_score  ... sentiment\n",
              "975312        -0.066667  ...  negative\n",
              "732908         1.000000  ...  positive\n",
              "961592        -0.166667  ...  negative\n",
              "361248         0.125000  ...  positive\n",
              "502437        -0.600000  ...  negative\n",
              "\n",
              "[5 rows x 10 columns]"
            ]
          },
          "metadata": {
            "tags": []
          },
          "execution_count": 51
        }
      ]
    },
    {
      "cell_type": "code",
      "metadata": {
        "id": "cKM1GzBwyu1d",
        "colab": {
          "base_uri": "https://localhost:8080/"
        },
        "outputId": "771af343-52f8-4b45-f644-74018dc7f0b4"
      },
      "source": [
        "#Rebalance dataset by sentiment \n",
        "#check counts to rebalance \n",
        "tweets_with_labels['sentiment'].value_counts()\n"
      ],
      "execution_count": null,
      "outputs": [
        {
          "output_type": "execute_result",
          "data": {
            "text/plain": [
              "neutral     132167\n",
              "positive    102778\n",
              "negative     61599\n",
              "Name: sentiment, dtype: int64"
            ]
          },
          "metadata": {
            "tags": []
          },
          "execution_count": 52
        }
      ]
    },
    {
      "cell_type": "code",
      "metadata": {
        "id": "-FwO3sLV3_8F"
      },
      "source": [
        "#rebalance dataset by lowest\n",
        "tweets_with_labels_balanced=tweets_with_labels.groupby('sentiment').head(61599)"
      ],
      "execution_count": null,
      "outputs": []
    },
    {
      "cell_type": "code",
      "metadata": {
        "id": "nE9_JwLbrqBd",
        "colab": {
          "base_uri": "https://localhost:8080/"
        },
        "outputId": "b7808614-5e02-46ca-a0ec-49bcc581f580"
      },
      "source": [
        "#check that it's balanced\n",
        "tweets_with_labels_balanced['sentiment'].value_counts()"
      ],
      "execution_count": null,
      "outputs": [
        {
          "output_type": "execute_result",
          "data": {
            "text/plain": [
              "negative    61599\n",
              "neutral     61599\n",
              "positive    61599\n",
              "Name: sentiment, dtype: int64"
            ]
          },
          "metadata": {
            "tags": []
          },
          "execution_count": 54
        }
      ]
    },
    {
      "cell_type": "code",
      "metadata": {
        "id": "g7t9WRtbrqHL"
      },
      "source": [
        ""
      ],
      "execution_count": null,
      "outputs": []
    },
    {
      "cell_type": "markdown",
      "metadata": {
        "id": "fEVJGaaO52wZ"
      },
      "source": [
        "# Modeling developnment"
      ]
    },
    {
      "cell_type": "code",
      "metadata": {
        "id": "VdWQDM5657w8",
        "colab": {
          "base_uri": "https://localhost:8080/"
        },
        "outputId": "91139586-88fe-4047-fb92-9b04393dd3f8"
      },
      "source": [
        "#Import packages\n",
        "import os\n",
        "import numpy as np\n",
        "import pandas as pd\n",
        "import json\n",
        "from sklearn.model_selection import train_test_split\n",
        "import tweepy as tw\n",
        "import matplotlib.pyplot as plt\n",
        "\n",
        "import nltk\n",
        "import re\n",
        "nltk.download(\"punkt\")\n",
        "nltk.download('wordnet')\n",
        "nltk.download('stopwords')\n",
        "nltk.download('averaged_perceptron_tagger')\n",
        "nltk.download('vader_lexicon')\n",
        "import urllib.request\n",
        "import gensim\n",
        "from nltk.tokenize import sent_tokenize\n",
        "from nltk.tokenize import word_tokenize\n",
        "from nltk.tokenize import RegexpTokenizer\n",
        "from nltk.corpus import stopwords\n",
        "from nltk.stem import PorterStemmer, WordNetLemmatizer, SnowballStemmer\n",
        "from collections import defaultdict, Counter\n",
        "from textblob import TextBlob\n",
        "from nltk.sentiment.vader import SentimentIntensityAnalyzer\n",
        "import spacy\n",
        "import en_core_web_sm\n",
        "nlp = en_core_web_sm.load()\n",
        "import emoji\n",
        "from tqdm import tqdm\n",
        "tqdm.pandas(desc=\"progress-bar\")\n",
        "from keras.preprocessing.text import one_hot\n",
        "from keras.preprocessing.sequence import pad_sequences\n",
        "from keras.models import Sequential\n",
        "from keras.layers.core import Activation, Dropout, Dense\n",
        "from keras.layers import Flatten\n",
        "from keras.layers import Conv1D\n",
        "from keras.layers import LSTM\n",
        "from keras.layers import GlobalAveragePooling1D\n",
        "from keras.layers.embeddings import Embedding\n",
        "from sklearn.model_selection import train_test_split\n",
        "from keras.preprocessing.text import Tokenizer\n",
        "from sklearn.utils import shuffle\n",
        "from sklearn.metrics import classification_report, confusion_matrix, accuracy_score\n",
        "import pydot\n",
        "import graphviz\n",
        "import keras.backend as K\n",
        "import IPython\n",
        "import random as rn\n",
        "import tensorflow as tf\n",
        "from sklearn.preprocessing import LabelEncoder\n",
        "from keras.utils import to_categorical\n",
        "from sklearn.model_selection import train_test_split\n",
        "from imblearn.over_sampling import SMOTE"
      ],
      "execution_count": null,
      "outputs": [
        {
          "output_type": "stream",
          "text": [
            "[nltk_data] Downloading package punkt to /root/nltk_data...\n",
            "[nltk_data]   Package punkt is already up-to-date!\n",
            "[nltk_data] Downloading package wordnet to /root/nltk_data...\n",
            "[nltk_data]   Package wordnet is already up-to-date!\n",
            "[nltk_data] Downloading package stopwords to /root/nltk_data...\n",
            "[nltk_data]   Package stopwords is already up-to-date!\n",
            "[nltk_data] Downloading package averaged_perceptron_tagger to\n",
            "[nltk_data]     /root/nltk_data...\n",
            "[nltk_data]   Package averaged_perceptron_tagger is already up-to-\n",
            "[nltk_data]       date!\n",
            "[nltk_data] Downloading package vader_lexicon to /root/nltk_data...\n",
            "[nltk_data]   Package vader_lexicon is already up-to-date!\n"
          ],
          "name": "stdout"
        },
        {
          "output_type": "stream",
          "text": [
            "/usr/local/lib/python3.6/dist-packages/sklearn/externals/six.py:31: FutureWarning: The module is deprecated in version 0.21 and will be removed in version 0.23 since we've dropped support for Python 2.7. Please rely on the official version of six (https://pypi.org/project/six/).\n",
            "  \"(https://pypi.org/project/six/).\", FutureWarning)\n",
            "/usr/local/lib/python3.6/dist-packages/sklearn/utils/deprecation.py:144: FutureWarning: The sklearn.neighbors.base module is  deprecated in version 0.22 and will be removed in version 0.24. The corresponding classes / functions should instead be imported from sklearn.neighbors. Anything that cannot be imported from sklearn.neighbors is now part of the private API.\n",
            "  warnings.warn(message, FutureWarning)\n"
          ],
          "name": "stderr"
        }
      ]
    },
    {
      "cell_type": "markdown",
      "metadata": {
        "id": "tdM9ZVPQ2m3U"
      },
      "source": [
        "# Implementing Models"
      ]
    },
    {
      "cell_type": "code",
      "metadata": {
        "id": "pUztB5kqMEaP"
      },
      "source": [
        "#generate random seed\n",
        "def random_seeds(seed):\n",
        "   os.environ['PYTHONHASHSEED']=str(seed)\n",
        "   tf.random.set_seed(seed)\n",
        "   np.random.seed(seed)\n",
        "   rn.seed(seed)"
      ],
      "execution_count": null,
      "outputs": []
    },
    {
      "cell_type": "code",
      "metadata": {
        "id": "JkK1feSgMF-2"
      },
      "source": [
        "#set seed\n",
        "random_seeds(1234)"
      ],
      "execution_count": null,
      "outputs": []
    },
    {
      "cell_type": "code",
      "metadata": {
        "id": "AI_rMbqt37am"
      },
      "source": [
        "#read in balanced dataset: downsampled dataset\n",
        "tweets_with_labels_down = pd.read_pickle('/content/drive/My Drive/FinalProject_dataset2/NN_dataset.pickle')"
      ],
      "execution_count": null,
      "outputs": []
    },
    {
      "cell_type": "code",
      "metadata": {
        "id": "GJyKKWrE6Gzu"
      },
      "source": [
        "#RNN Method "
      ],
      "execution_count": null,
      "outputs": []
    },
    {
      "cell_type": "code",
      "metadata": {
        "id": "W2YQkbNKByS4"
      },
      "source": [
        "def label_encoding(sentiment):\n",
        "    LE = LabelEncoder()\n",
        "    fit=LE.fit(sentiment.astype(str))\n",
        "    labels =fit.transform(sentiment)\n",
        "    labels1 = to_categorical(labels)\n",
        "    return labels1, labels, fit"
      ],
      "execution_count": null,
      "outputs": []
    },
    {
      "cell_type": "code",
      "metadata": {
        "id": "m2eFCEMrZhM3"
      },
      "source": [
        "label=tweets_with_labels_down ['sentiment']\n",
        "label.shape\n",
        "#Implement label encoding function\n",
        "y, y_NB, fit= label_encoding(label)"
      ],
      "execution_count": null,
      "outputs": []
    },
    {
      "cell_type": "code",
      "metadata": {
        "id": "H1shkiVCzdiN",
        "colab": {
          "base_uri": "https://localhost:8080/"
        },
        "outputId": "d12386f4-b475-4403-9948-f9f42983fff3"
      },
      "source": [
        "#Taking the cleaned tweets as X for training the model.\n",
        "X= tweets_with_labels_down ['tweet_cleaned'].values\n",
        "X.shape"
      ],
      "execution_count": null,
      "outputs": [
        {
          "output_type": "execute_result",
          "data": {
            "text/plain": [
              "(184797,)"
            ]
          },
          "metadata": {
            "tags": []
          },
          "execution_count": 65
        }
      ]
    },
    {
      "cell_type": "code",
      "metadata": {
        "id": "D7VDiY0v0Y3Q"
      },
      "source": [
        "#Splitting the data into train and test for Naive Bayes\n",
        "X_train, X_test, y_train_NB, y_test_NB = train_test_split(X, y_NB, test_size=0.20, random_state=42)"
      ],
      "execution_count": null,
      "outputs": []
    },
    {
      "cell_type": "code",
      "metadata": {
        "id": "8jiZPI064vdp"
      },
      "source": [
        "#Splitting the data into train and test for Neural Networks\n",
        "X_train, X_test, y_train, y_test = train_test_split(X, y, test_size=0.20, random_state=42)"
      ],
      "execution_count": null,
      "outputs": []
    },
    {
      "cell_type": "markdown",
      "metadata": {
        "id": "JcnbqX25rq4F"
      },
      "source": [
        "# Baseline with Naive Bayes"
      ]
    },
    {
      "cell_type": "code",
      "metadata": {
        "id": "MiZYdbvGwgqE"
      },
      "source": [
        "#import packages\n",
        "from sklearn.naive_bayes import MultinomialNB\n",
        "from sklearn.pipeline import Pipeline\n",
        "from sklearn.feature_extraction.text import CountVectorizer, TfidfTransformer\n",
        "from sklearn.model_selection import GridSearchCV"
      ],
      "execution_count": null,
      "outputs": []
    },
    {
      "cell_type": "code",
      "metadata": {
        "id": "Pdsooki6wgzM"
      },
      "source": [
        "# NB pipeline with frequency count, TFIDF \n",
        "NB_text = Pipeline([('vect', CountVectorizer()),\n",
        "                     ('tfidf', TfidfTransformer()),\n",
        "                     ('clf', MultinomialNB())])\n",
        "parameters = {\n",
        "    'vect__ngram_range': [(1,1),(1, 2), (2, 2)],\n",
        "    'tfidf__norm': ('l1', 'l2'),\n",
        "    'tfidf__use_idf': (True, False),\n",
        "    'clf__alpha': (1, 0.1, 0.01, 0.001, 0.0001, 0.00001)\n",
        "}\n"
      ],
      "execution_count": null,
      "outputs": []
    },
    {
      "cell_type": "code",
      "metadata": {
        "id": "WIufcg77wg3R",
        "colab": {
          "base_uri": "https://localhost:8080/"
        },
        "outputId": "7736e2c8-4355-4fa3-eace-18342c749ec0"
      },
      "source": [
        "NB_classifier = GridSearchCV(NB_text, parameters, scoring='f1_macro')\n",
        "NB_classifier.fit(X_train, y_train_NB)"
      ],
      "execution_count": null,
      "outputs": [
        {
          "output_type": "execute_result",
          "data": {
            "text/plain": [
              "GridSearchCV(cv=None, error_score=nan,\n",
              "             estimator=Pipeline(memory=None,\n",
              "                                steps=[('vect',\n",
              "                                        CountVectorizer(analyzer='word',\n",
              "                                                        binary=False,\n",
              "                                                        decode_error='strict',\n",
              "                                                        dtype=<class 'numpy.int64'>,\n",
              "                                                        encoding='utf-8',\n",
              "                                                        input='content',\n",
              "                                                        lowercase=True,\n",
              "                                                        max_df=1.0,\n",
              "                                                        max_features=None,\n",
              "                                                        min_df=1,\n",
              "                                                        ngram_range=(1, 1),\n",
              "                                                        preprocessor=None,\n",
              "                                                        stop_words=None,\n",
              "                                                        strip_accents=None,\n",
              "                                                        token_pattern='(...\n",
              "                                       ('clf',\n",
              "                                        MultinomialNB(alpha=1.0,\n",
              "                                                      class_prior=None,\n",
              "                                                      fit_prior=True))],\n",
              "                                verbose=False),\n",
              "             iid='deprecated', n_jobs=None,\n",
              "             param_grid={'clf__alpha': (1, 0.1, 0.01, 0.001, 0.0001, 1e-05),\n",
              "                         'tfidf__norm': ('l1', 'l2'),\n",
              "                         'tfidf__use_idf': (True, False),\n",
              "                         'vect__ngram_range': [(1, 1), (1, 2), (2, 2)]},\n",
              "             pre_dispatch='2*n_jobs', refit=True, return_train_score=False,\n",
              "             scoring='f1_macro', verbose=0)"
            ]
          },
          "metadata": {
            "tags": []
          },
          "execution_count": 70
        }
      ]
    },
    {
      "cell_type": "code",
      "metadata": {
        "id": "k6VC2r-jwgwx",
        "colab": {
          "base_uri": "https://localhost:8080/"
        },
        "outputId": "e3b706f7-900f-4ee8-c57b-5248c46fe57c"
      },
      "source": [
        "print(NB_classifier.best_params_)"
      ],
      "execution_count": null,
      "outputs": [
        {
          "output_type": "stream",
          "text": [
            "{'clf__alpha': 0.1, 'tfidf__norm': 'l1', 'tfidf__use_idf': False, 'vect__ngram_range': (1, 2)}\n"
          ],
          "name": "stdout"
        }
      ]
    },
    {
      "cell_type": "code",
      "metadata": {
        "id": "yFkhPMWq2K4x"
      },
      "source": [
        "y_pred_NB=NB_classifier.predict(X_test)"
      ],
      "execution_count": null,
      "outputs": []
    },
    {
      "cell_type": "code",
      "metadata": {
        "id": "uo48kDZI1q5T",
        "colab": {
          "base_uri": "https://localhost:8080/"
        },
        "outputId": "6ff04911-93b5-42de-d47e-9171a7a4902c"
      },
      "source": [
        "print(accuracy_score(y_test_NB, y_pred_NB))\n",
        "CM_df_NB = pd.DataFrame(confusion_matrix(y_test_NB, y_pred_NB, labels=[0, 1, 2]),\n",
        "                        index=['true:negative', 'true:neutral', 'true:positive'], \n",
        "                        columns=['pred:negative', 'pred:neutral', 'pred:positive'])\n",
        "print(CM_df_NB)\n",
        "print(classification_report(y_test_NB, y_pred_NB))"
      ],
      "execution_count": null,
      "outputs": [
        {
          "output_type": "stream",
          "text": [
            "0.7631493506493506\n",
            "               pred:negative  pred:neutral  pred:positive\n",
            "true:negative          10178          1227            912\n",
            "true:neutral            2268          8651           1474\n",
            "true:positive           1540          1333           9377\n",
            "              precision    recall  f1-score   support\n",
            "\n",
            "           0       0.73      0.83      0.77     12317\n",
            "           1       0.77      0.70      0.73     12393\n",
            "           2       0.80      0.77      0.78     12250\n",
            "\n",
            "    accuracy                           0.76     36960\n",
            "   macro avg       0.77      0.76      0.76     36960\n",
            "weighted avg       0.77      0.76      0.76     36960\n",
            "\n"
          ],
          "name": "stdout"
        }
      ]
    },
    {
      "cell_type": "markdown",
      "metadata": {
        "id": "5ZMKKJksA5u1"
      },
      "source": [
        "## Predicting on the COVID Tweets with Naive Bayes Classifer (with downsampled dataset)"
      ]
    },
    {
      "cell_type": "code",
      "metadata": {
        "id": "A9k3lhWdxy9f"
      },
      "source": [
        "#Use to predict on tweets with dates\n",
        "tweet_data_balanced['sentiment_NB']=NB_classifier.predict(tweet_data_balanced['tweet_cleaned'])\n",
        "tweet_data_balanced['sentiment_NB']=tweet_data_balanced['sentiment_NB'].replace([0,1,2],['negative','neutral','positive'])\n"
      ],
      "execution_count": null,
      "outputs": []
    },
    {
      "cell_type": "code",
      "metadata": {
        "colab": {
          "base_uri": "https://localhost:8080/"
        },
        "id": "dG48aalQ53W6",
        "outputId": "83979ed1-d1d1-4878-d050-fd618d84c278"
      },
      "source": [
        "tweets_data_positive = tweet_data_balanced[tweet_data_balanced['sentiment_NB'] == 'positive']\n",
        "print(\"Number of Positive tweets from NB classifer: %s\" % str(len(tweets_data_positive.index)))\n",
        "\n",
        "tweets_data_negative = tweet_data_balanced[tweet_data_balanced['sentiment_NB'] == 'negative']\n",
        "print(\"Number of Negative tweets from NB classifer: %s\" % str(len(tweets_data_negative.index)))\n",
        "\n",
        "tweets_data_neutral = tweet_data_balanced[tweet_data_balanced['sentiment_NB'] == 'neutral']\n",
        "print(\"Number of Neutral tweets from NB classifer: %s\" % str(len(tweets_data_neutral.index)))"
      ],
      "execution_count": null,
      "outputs": [
        {
          "output_type": "stream",
          "text": [
            "Number of Positive tweets from NB classifer: 61146\n",
            "Number of Negative tweets from NB classifer: 41006\n",
            "Number of Neutral tweets from NB classifer: 38261\n"
          ],
          "name": "stdout"
        }
      ]
    },
    {
      "cell_type": "code",
      "metadata": {
        "colab": {
          "base_uri": "https://localhost:8080/",
          "height": 648
        },
        "id": "_5p5QBo74qzd",
        "outputId": "b3fafb94-5351-4273-8b1c-7e9874a52ce1"
      },
      "source": [
        "order = ['Jan', 'Feb', 'Mar','Apr','May','Jun','Sep']\n",
        "plot_tweet_date_NB = tweet_data_balanced.groupby(['month', 'sentiment_NB']).size().reset_index().pivot(columns='sentiment_NB', index='month', values=0).loc[order].plot(kind='bar',colormap='coolwarm', stacked=True,figsize=(10,10))\n",
        "#plot_tweet_date = tweets_post.groupby(['month', 'sentiment']).size().reset_index().pivot(columns='sentiment', index='month', values=0).plot(kind='bar',colormap='coolwarm', stacked=True,figsize=(10,10))\n",
        "plot_tweet_date_NB.set_xlabel(\"Month\", fontsize= 20)\n",
        "plot_tweet_date_NB.set_ylabel(\"Tweet count\", fontsize= 20)\n",
        "\n",
        "plot_tweet_date_NB.set_title(\"NB Classifer Predictions Sentiment of the Tweets from January-June and September 2020\", fontname='Arial', fontsize=22)\n",
        "\n",
        "# Set the font name for axis tick labels to be Comic Sans\n",
        "for tick in plot_tweet_date_NB.get_xticklabels():\n",
        "    tick.set_fontname(\"Arial\")\n",
        "for tick in plot_tweet_date_NB.get_yticklabels():\n",
        "    tick.set_fontname(\"Arial\")\n",
        "    \n",
        "plt.xticks(fontsize= 20)\n",
        "plt.yticks(fontsize= 20)  "
      ],
      "execution_count": null,
      "outputs": [
        {
          "output_type": "execute_result",
          "data": {
            "text/plain": [
              "(array([    0.,  2500.,  5000.,  7500., 10000., 12500., 15000., 17500.,\n",
              "        20000., 22500.]), <a list of 10 Text major ticklabel objects>)"
            ]
          },
          "metadata": {
            "tags": []
          },
          "execution_count": 76
        },
        {
          "output_type": "display_data",
          "data": {
            "image/png": "[encoded data removed]",
            "text/plain": [
              "<Figure size 720x720 with 1 Axes>"
            ]
          },
          "metadata": {
            "tags": [],
            "needs_background": "light"
          }
        }
      ]
    },
    {
      "cell_type": "markdown",
      "metadata": {
        "id": "QtInaF_mwJ2p"
      },
      "source": [
        "# Neural Network Models"
      ]
    },
    {
      "cell_type": "code",
      "metadata": {
        "id": "meAPIIDuzuvy"
      },
      "source": [
        "#Preparing the embedding layer\n",
        "#Using tokenizer to create word to text index\n",
        "tokenizer = Tokenizer(num_words=5000)\n",
        "tokenizer.fit_on_texts(X_train)\n",
        "X_train = tokenizer.texts_to_sequences(X_train)\n",
        "X_test = tokenizer.texts_to_sequences(X_test)"
      ],
      "execution_count": null,
      "outputs": []
    },
    {
      "cell_type": "code",
      "metadata": {
        "id": "0k_IjD6Dz1yO"
      },
      "source": [
        "# Adding 1 because of reserved 0 index\n",
        "vocab_size = len(tokenizer.word_index) + 1\n",
        "\n",
        "maxlen = 100\n",
        "\n",
        "X_train = pad_sequences(X_train, padding='post', maxlen=maxlen)\n",
        "X_test = pad_sequences(X_test, padding='post', maxlen=maxlen)"
      ],
      "execution_count": null,
      "outputs": []
    },
    {
      "cell_type": "code",
      "metadata": {
        "id": "hIMf-JnB0jOs"
      },
      "source": [
        "#Using Glove embedding to create feature matrix.\n",
        "#GloVe is an unsupervised learning algorithm for obtaining vector representations for words. \n",
        "#GloVe model is to first create a huge word-context co-occurence matrix consisting of word, context\n",
        "#pairs such that each element in this matrix represents how often a word occurs with the context\n",
        "from numpy import asarray\n",
        "from numpy import zeros\n",
        "\n",
        "embeddings_dictionary = dict()\n",
        "glove_file = open('/content/drive/My Drive/FinalProject_dataset2/glove.6B.100d.txt', encoding=\"utf8\")\n",
        "\n",
        "for line in glove_file:\n",
        "    records = line.split()\n",
        "    word = records[0]\n",
        "    vector_dimensions = asarray(records[1:], dtype='float32')\n",
        "    embeddings_dictionary [word] = vector_dimensions\n",
        "glove_file.close()"
      ],
      "execution_count": null,
      "outputs": []
    },
    {
      "cell_type": "code",
      "metadata": {
        "id": "GqwImkL02oMx"
      },
      "source": [
        "#The matrix will have 100 columns where each column will contain the GloVe word embeddings for the words in our corpus.\n",
        "embedding_matrix = zeros((vocab_size, 100))\n",
        "for word, index in tokenizer.word_index.items():\n",
        "    embedding_vector = embeddings_dictionary.get(word)\n",
        "    if embedding_vector is not None:\n",
        "        embedding_matrix[index] = embedding_vector"
      ],
      "execution_count": null,
      "outputs": []
    },
    {
      "cell_type": "markdown",
      "metadata": {
        "id": "m29GeZXJuMEn"
      },
      "source": [
        "RNN model + softmax \n",
        "- Only tweets"
      ]
    },
    {
      "cell_type": "code",
      "metadata": {
        "id": "iM7ipv7d0yhh",
        "colab": {
          "base_uri": "https://localhost:8080/"
        },
        "outputId": "e86b8f42-9358-48b1-eac6-9eb203076201"
      },
      "source": [
        "#RNN model+softmax\n",
        "model_rnn = Sequential(name= \"RNN_MODEL\")\n",
        "embedding_layer = Embedding(vocab_size, 100, weights=[embedding_matrix], input_length=maxlen , trainable=False)\n",
        "model_rnn.add(embedding_layer)\n",
        "model_rnn.add(LSTM(128, return_sequences=True, dropout=0.2))\n",
        "model_rnn.add(LSTM(64, return_sequences=True, dropout=0.2))\n",
        "model_rnn.add(LSTM(32))\n",
        "model_rnn.add(Dense(3, activation='softmax'))\n",
        "model_rnn.compile(optimizer='adam', loss='categorical_crossentropy', metrics=['acc'])\n",
        "print(model_rnn.summary())"
      ],
      "execution_count": null,
      "outputs": [
        {
          "output_type": "stream",
          "text": [
            "Model: \"RNN_MODEL\"\n",
            "_________________________________________________________________\n",
            "Layer (type)                 Output Shape              Param #   \n",
            "=================================================================\n",
            "embedding (Embedding)        (None, 100, 100)          14756400  \n",
            "_________________________________________________________________\n",
            "lstm (LSTM)                  (None, 100, 128)          117248    \n",
            "_________________________________________________________________\n",
            "lstm_1 (LSTM)                (None, 100, 64)           49408     \n",
            "_________________________________________________________________\n",
            "lstm_2 (LSTM)                (None, 32)                12416     \n",
            "_________________________________________________________________\n",
            "dense (Dense)                (None, 3)                 99        \n",
            "=================================================================\n",
            "Total params: 14,935,571\n",
            "Trainable params: 179,171\n",
            "Non-trainable params: 14,756,400\n",
            "_________________________________________________________________\n",
            "None\n"
          ],
          "name": "stdout"
        }
      ]
    },
    {
      "cell_type": "code",
      "metadata": {
        "id": "83CBh1d2Le8d",
        "colab": {
          "base_uri": "https://localhost:8080/",
          "height": 564
        },
        "outputId": "acd0cd9d-dd3b-4f69-b086-ab9e42767398"
      },
      "source": [
        "#model diagram\n",
        "tf.keras.utils.plot_model(model_rnn)"
      ],
      "execution_count": null,
      "outputs": [
        {
          "output_type": "execute_result",
          "data": {
            "image/png": "[encoded data removed]",
            "text/plain": [
              "<IPython.core.display.Image object>"
            ]
          },
          "metadata": {
            "tags": []
          },
          "execution_count": 82
        }
      ]
    },
    {
      "cell_type": "code",
      "metadata": {
        "id": "1gRQjVpC3Eej",
        "colab": {
          "base_uri": "https://localhost:8080/"
        },
        "outputId": "97f6cd91-5555-46ec-a3f3-2a5cbba003b1"
      },
      "source": [
        "#fit and evaluate on test data\n",
        "history_rnn = model_rnn.fit(X_train, y_train, batch_size=128, epochs=10, verbose=1, validation_split=0.2)\n",
        "score_rnn = model_rnn.evaluate(X_test, y_test, verbose=1)"
      ],
      "execution_count": null,
      "outputs": [
        {
          "output_type": "stream",
          "text": [
            "Epoch 1/10\n",
            "924/924 [==============================] - 20s 22ms/step - loss: 1.0236 - acc: 0.4413 - val_loss: 0.8958 - val_acc: 0.6082\n",
            "Epoch 2/10\n",
            "924/924 [==============================] - 19s 21ms/step - loss: 0.9086 - acc: 0.5960 - val_loss: 0.9332 - val_acc: 0.5715\n",
            "Epoch 3/10\n",
            "924/924 [==============================] - 19s 21ms/step - loss: 0.8217 - acc: 0.6472 - val_loss: 0.7532 - val_acc: 0.6856\n",
            "Epoch 4/10\n",
            "924/924 [==============================] - 19s 21ms/step - loss: 0.7409 - acc: 0.6917 - val_loss: 0.6817 - val_acc: 0.7304\n",
            "Epoch 5/10\n",
            "924/924 [==============================] - 19s 21ms/step - loss: 0.6854 - acc: 0.7232 - val_loss: 0.6299 - val_acc: 0.7507\n",
            "Epoch 6/10\n",
            "924/924 [==============================] - 19s 21ms/step - loss: 0.6417 - acc: 0.7507 - val_loss: 1.6514 - val_acc: 0.3571\n",
            "Epoch 7/10\n",
            "924/924 [==============================] - 19s 21ms/step - loss: 0.8440 - acc: 0.6270 - val_loss: 0.6601 - val_acc: 0.7617\n",
            "Epoch 8/10\n",
            "924/924 [==============================] - 19s 21ms/step - loss: 0.6285 - acc: 0.7595 - val_loss: 0.5467 - val_acc: 0.8031\n",
            "Epoch 9/10\n",
            "924/924 [==============================] - 20s 21ms/step - loss: 0.5755 - acc: 0.7863 - val_loss: 0.5128 - val_acc: 0.8194\n",
            "Epoch 10/10\n",
            "924/924 [==============================] - 19s 21ms/step - loss: 0.5475 - acc: 0.8001 - val_loss: 0.4923 - val_acc: 0.8288\n",
            "1155/1155 [==============================] - 10s 9ms/step - loss: 0.4838 - acc: 0.8338\n"
          ],
          "name": "stdout"
        }
      ]
    },
    {
      "cell_type": "code",
      "metadata": {
        "id": "hTB9tDWmMy7i",
        "colab": {
          "base_uri": "https://localhost:8080/"
        },
        "outputId": "4537b354-0425-4af3-a70d-5396939c7f50"
      },
      "source": [
        "print(\"Test Score of RNN model:\", score_rnn[0])\n",
        "print(\"Test Accuracy of RNN model:\", score_rnn[1])"
      ],
      "execution_count": null,
      "outputs": [
        {
          "output_type": "stream",
          "text": [
            "Test Score of RNN model: 0.48377057909965515\n",
            "Test Accuracy of RNN model: 0.8337662220001221\n"
          ],
          "name": "stdout"
        }
      ]
    },
    {
      "cell_type": "code",
      "metadata": {
        "id": "PfNC27OiQ_UY",
        "colab": {
          "base_uri": "https://localhost:8080/",
          "height": 573
        },
        "outputId": "f290ee60-3f84-451d-adfe-32d0325fd29d"
      },
      "source": [
        "plt.plot(history_rnn.history['acc'])\n",
        "plt.plot(history_rnn.history['val_acc'])\n",
        "\n",
        "plt.title('RNN model accuracy')\n",
        "plt.ylabel('accuracy')\n",
        "plt.xlabel('epoch')\n",
        "plt.legend(['train','test'], loc='upper left')\n",
        "plt.show()\n",
        "\n",
        "plt.plot(history_rnn.history['loss'])\n",
        "plt.plot(history_rnn.history['val_loss'])\n",
        "\n",
        "plt.title('RNN model loss')\n",
        "plt.ylabel('loss')\n",
        "plt.xlabel('epoch')\n",
        "plt.legend(['train','test'], loc='upper left')\n",
        "plt.show()"
      ],
      "execution_count": null,
      "outputs": [
        {
          "output_type": "display_data",
          "data": {
            "image/png": "[encoded data removed]",
            "text/plain": [
              "<Figure size 432x288 with 1 Axes>"
            ]
          },
          "metadata": {
            "tags": [],
            "needs_background": "light"
          }
        },
        {
          "output_type": "display_data",
          "data": {
            "image/png": "[encoded data removed]",
            "text/plain": [
              "<Figure size 432x288 with 1 Axes>"
            ]
          },
          "metadata": {
            "tags": [],
            "needs_background": "light"
          }
        }
      ]
    },
    {
      "cell_type": "code",
      "metadata": {
        "id": "9SDfnXblI3IM"
      },
      "source": [
        "# Generate predictions for sentiment probabilities\n",
        "def predict_test(model,testdata, labels, fit):\n",
        "    predictions = model.predict(testdata)\n",
        "    y_true=np.argmax(labels, axis=1)\n",
        "    y_pred=np.argmax(predictions, axis = 1)\n",
        "    print(y_pred)\n",
        "    label_pred=fit.inverse_transform(y_pred)\n",
        "    #metrics\n",
        "    report = classification_report(y_true, y_pred, labels=[0, 1, 2])\n",
        "    CM=confusion_matrix(y_true, y_pred)\n",
        "    CM_df = pd.DataFrame(confusion_matrix(y_true, y_pred, labels=[0, 1, 2]),\n",
        "                        index=['true:negative', 'true:neutral', 'true:positive'], \n",
        "                        columns=['pred:negative', 'pred:neutral', 'pred:positive'])\n",
        "    return label_pred,report, CM, CM_df"
      ],
      "execution_count": null,
      "outputs": []
    },
    {
      "cell_type": "code",
      "metadata": {
        "id": "9lSqlLCPRr0M",
        "colab": {
          "base_uri": "https://localhost:8080/"
        },
        "outputId": "03d07cda-11b4-4774-eaa1-39f07604216d"
      },
      "source": [
        "#get classification report and confusion matrix\n",
        "rnn_sentiment,rnn_classification_report, rnn_confusionmatrix, rnn_confusionmatrix_df= predict_test(model_rnn,X_test, y_test, fit)"
      ],
      "execution_count": null,
      "outputs": [
        {
          "output_type": "stream",
          "text": [
            "[1 0 1 ... 0 1 2]\n"
          ],
          "name": "stdout"
        }
      ]
    },
    {
      "cell_type": "code",
      "metadata": {
        "id": "hEwuAxl3RueI",
        "colab": {
          "base_uri": "https://localhost:8080/"
        },
        "outputId": "87acd889-38fe-4fea-c3ce-d51d9defe7c1"
      },
      "source": [
        "print(rnn_sentiment)\n",
        "print(rnn_classification_report)\n",
        "print(rnn_confusionmatrix)\n",
        "print(rnn_confusionmatrix_df)"
      ],
      "execution_count": null,
      "outputs": [
        {
          "output_type": "stream",
          "text": [
            "['neutral' 'negative' 'neutral' ... 'negative' 'neutral' 'positive']\n",
            "              precision    recall  f1-score   support\n",
            "\n",
            "           0       0.87      0.80      0.84     12317\n",
            "           1       0.78      0.86      0.82     12393\n",
            "           2       0.86      0.84      0.85     12250\n",
            "\n",
            "    accuracy                           0.83     36960\n",
            "   macro avg       0.84      0.83      0.83     36960\n",
            "weighted avg       0.84      0.83      0.83     36960\n",
            "\n",
            "[[ 9873  1604   840]\n",
            " [  864 10673   856]\n",
            " [  588  1392 10270]]\n",
            "               pred:negative  pred:neutral  pred:positive\n",
            "true:negative           9873          1604            840\n",
            "true:neutral             864         10673            856\n",
            "true:positive            588          1392          10270\n"
          ],
          "name": "stdout"
        }
      ]
    },
    {
      "cell_type": "code",
      "metadata": {
        "id": "TeAi2uTXRXWK",
        "colab": {
          "base_uri": "https://localhost:8080/"
        },
        "outputId": "9b23994a-b686-4c25-e295-58857f434ba9"
      },
      "source": [
        "#CNN model+softmax\n",
        "\n",
        "model_cnn= Sequential(name= \"CNN_MODEL\")\n",
        "model_cnn.add(Embedding(vocab_size,100,weights=[embedding_matrix],input_length=maxlen, trainable= False))\n",
        "model_cnn.add(Conv1D(filters=32,kernel_size=3, padding='same',activation='relu'))\n",
        "model_cnn.add(GlobalAveragePooling1D())\n",
        "model_cnn.add(Flatten())\n",
        "model_cnn.add(Dense(20, activation='relu'))\n",
        "model_cnn.add(Dropout(0.2))\n",
        "model_cnn.add(Dense(3, activation='softmax'))\n",
        "model_cnn.compile(loss='categorical_crossentropy',\n",
        "              optimizer='adam', \n",
        "              metrics=['acc'])\n",
        "print(model_cnn.summary())\n",
        "    "
      ],
      "execution_count": null,
      "outputs": [
        {
          "output_type": "stream",
          "text": [
            "Model: \"CNN_MODEL\"\n",
            "_________________________________________________________________\n",
            "Layer (type)                 Output Shape              Param #   \n",
            "=================================================================\n",
            "embedding_1 (Embedding)      (None, 100, 100)          14756400  \n",
            "_________________________________________________________________\n",
            "conv1d (Conv1D)              (None, 100, 32)           9632      \n",
            "_________________________________________________________________\n",
            "global_average_pooling1d (Gl (None, 32)                0         \n",
            "_________________________________________________________________\n",
            "flatten (Flatten)            (None, 32)                0         \n",
            "_________________________________________________________________\n",
            "dense_1 (Dense)              (None, 20)                660       \n",
            "_________________________________________________________________\n",
            "dropout (Dropout)            (None, 20)                0         \n",
            "_________________________________________________________________\n",
            "dense_2 (Dense)              (None, 3)                 63        \n",
            "=================================================================\n",
            "Total params: 14,766,755\n",
            "Trainable params: 10,355\n",
            "Non-trainable params: 14,756,400\n",
            "_________________________________________________________________\n",
            "None\n"
          ],
          "name": "stdout"
        }
      ]
    },
    {
      "cell_type": "code",
      "metadata": {
        "id": "CgstJrtH0wHI",
        "colab": {
          "base_uri": "https://localhost:8080/",
          "height": 758
        },
        "outputId": "d4020307-dfd1-4946-b80d-febc55304602"
      },
      "source": [
        "#model diagram\n",
        "tf.keras.utils.plot_model(model_cnn)"
      ],
      "execution_count": null,
      "outputs": [
        {
          "output_type": "execute_result",
          "data": {
            "image/png": "[encoded data removed]",
            "text/plain": [
              "<IPython.core.display.Image object>"
            ]
          },
          "metadata": {
            "tags": []
          },
          "execution_count": 90
        }
      ]
    },
    {
      "cell_type": "code",
      "metadata": {
        "id": "tBaIBzuvHstT",
        "colab": {
          "base_uri": "https://localhost:8080/"
        },
        "outputId": "e3b58ac7-6b43-4491-cee6-7d2393bf5e14"
      },
      "source": [
        "#fit and evaluate on test data\n",
        "history_cnn = model_cnn.fit(X_train, y_train, batch_size=128, epochs=10, verbose=1, validation_split=0.2)\n",
        "score_cnn = model_cnn.evaluate(X_test, y_test, verbose=1)"
      ],
      "execution_count": null,
      "outputs": [
        {
          "output_type": "stream",
          "text": [
            "Epoch 1/10\n",
            "924/924 [==============================] - 4s 5ms/step - loss: 0.9533 - acc: 0.5530 - val_loss: 0.8668 - val_acc: 0.6164\n",
            "Epoch 2/10\n",
            "924/924 [==============================] - 4s 4ms/step - loss: 0.8432 - acc: 0.6397 - val_loss: 0.8113 - val_acc: 0.6509\n",
            "Epoch 3/10\n",
            "924/924 [==============================] - 4s 4ms/step - loss: 0.7994 - acc: 0.6647 - val_loss: 0.7789 - val_acc: 0.6708\n",
            "Epoch 4/10\n",
            "924/924 [==============================] - 4s 4ms/step - loss: 0.7664 - acc: 0.6849 - val_loss: 0.7455 - val_acc: 0.6917\n",
            "Epoch 5/10\n",
            "924/924 [==============================] - 4s 4ms/step - loss: 0.7387 - acc: 0.7011 - val_loss: 0.7225 - val_acc: 0.7063\n",
            "Epoch 6/10\n",
            "924/924 [==============================] - 4s 4ms/step - loss: 0.7150 - acc: 0.7141 - val_loss: 0.7023 - val_acc: 0.7188\n",
            "Epoch 7/10\n",
            "924/924 [==============================] - 4s 4ms/step - loss: 0.6938 - acc: 0.7262 - val_loss: 0.6857 - val_acc: 0.7267\n",
            "Epoch 8/10\n",
            "924/924 [==============================] - 4s 4ms/step - loss: 0.6778 - acc: 0.7341 - val_loss: 0.6707 - val_acc: 0.7365\n",
            "Epoch 9/10\n",
            "924/924 [==============================] - 4s 4ms/step - loss: 0.6626 - acc: 0.7432 - val_loss: 0.6627 - val_acc: 0.7396\n",
            "Epoch 10/10\n",
            "924/924 [==============================] - 4s 4ms/step - loss: 0.6494 - acc: 0.7505 - val_loss: 0.6564 - val_acc: 0.7416\n",
            "1155/1155 [==============================] - 3s 3ms/step - loss: 0.6555 - acc: 0.7413\n"
          ],
          "name": "stdout"
        }
      ]
    },
    {
      "cell_type": "code",
      "metadata": {
        "id": "fjPM-x5T00Aq",
        "colab": {
          "base_uri": "https://localhost:8080/"
        },
        "outputId": "8026704c-607d-4920-888a-4f8563a99892"
      },
      "source": [
        "#Visualize results\n",
        "#Visualize results\n",
        "print(\"Test Score of CNN model:\", score_cnn[0])\n",
        "print(\"Test Accuracy of CNN model:\", score_cnn[1])"
      ],
      "execution_count": null,
      "outputs": [
        {
          "output_type": "stream",
          "text": [
            "Test Score of CNN model: 0.6555012464523315\n",
            "Test Accuracy of CNN model: 0.741287887096405\n"
          ],
          "name": "stdout"
        }
      ]
    },
    {
      "cell_type": "code",
      "metadata": {
        "id": "nCdCIKbnIMan",
        "colab": {
          "base_uri": "https://localhost:8080/",
          "height": 573
        },
        "outputId": "ff9beb6e-0054-4295-95cc-ebc9444cc849"
      },
      "source": [
        "plt.plot(history_cnn.history['acc'])\n",
        "plt.plot(history_cnn.history['val_acc'])\n",
        "\n",
        "plt.title('CNN model accuracy')\n",
        "plt.ylabel('accuracy')\n",
        "plt.xlabel('epoch')\n",
        "plt.legend(['train','test'], loc='upper left')\n",
        "plt.show()\n",
        "\n",
        "plt.plot(history_cnn.history['loss'])\n",
        "plt.plot(history_cnn.history['val_loss'])\n",
        "\n",
        "plt.title('CNN model loss')\n",
        "plt.ylabel('loss')\n",
        "plt.xlabel('epoch')\n",
        "plt.legend(['train','test'], loc='upper left')\n",
        "plt.show()"
      ],
      "execution_count": null,
      "outputs": [
        {
          "output_type": "display_data",
          "data": {
            "image/png": "[encoded data removed]",
            "text/plain": [
              "<Figure size 432x288 with 1 Axes>"
            ]
          },
          "metadata": {
            "tags": [],
            "needs_background": "light"
          }
        },
        {
          "output_type": "display_data",
          "data": {
            "image/png": "[encoded data removed]",
            "text/plain": [
              "<Figure size 432x288 with 1 Axes>"
            ]
          },
          "metadata": {
            "tags": [],
            "needs_background": "light"
          }
        }
      ]
    },
    {
      "cell_type": "code",
      "metadata": {
        "id": "Cd8NkFcGRQRt",
        "colab": {
          "base_uri": "https://localhost:8080/"
        },
        "outputId": "916811da-86ea-492b-e916-4d82e1a264bd"
      },
      "source": [
        "#get classification report and confusion matrix\n",
        "cnn_sentiment,cnn_classification_report, cnn_confusionmatrix, cnn_confusionmatrix_df= predict_test(model_cnn,X_test, y_test, fit)"
      ],
      "execution_count": null,
      "outputs": [
        {
          "output_type": "stream",
          "text": [
            "[2 0 1 ... 0 1 2]\n"
          ],
          "name": "stdout"
        }
      ]
    },
    {
      "cell_type": "code",
      "metadata": {
        "id": "Dl-24VkjR1k4",
        "colab": {
          "base_uri": "https://localhost:8080/"
        },
        "outputId": "0fbda4bb-3544-45c0-a01c-6dcebb38df47"
      },
      "source": [
        "print(cnn_sentiment)\n",
        "print(cnn_classification_report)\n",
        "print(cnn_confusionmatrix)\n",
        "print(cnn_confusionmatrix_df)"
      ],
      "execution_count": null,
      "outputs": [
        {
          "output_type": "stream",
          "text": [
            "['positive' 'negative' 'neutral' ... 'negative' 'neutral' 'positive']\n",
            "              precision    recall  f1-score   support\n",
            "\n",
            "           0       0.72      0.79      0.75     12317\n",
            "           1       0.79      0.64      0.71     12393\n",
            "           2       0.73      0.80      0.76     12250\n",
            "\n",
            "    accuracy                           0.74     36960\n",
            "   macro avg       0.75      0.74      0.74     36960\n",
            "weighted avg       0.75      0.74      0.74     36960\n",
            "\n",
            "[[9729 1103 1485]\n",
            " [2420 7923 2050]\n",
            " [1455 1049 9746]]\n",
            "               pred:negative  pred:neutral  pred:positive\n",
            "true:negative           9729          1103           1485\n",
            "true:neutral            2420          7923           2050\n",
            "true:positive           1455          1049           9746\n"
          ],
          "name": "stdout"
        }
      ]
    },
    {
      "cell_type": "markdown",
      "metadata": {
        "id": "cMuFusqVOo4g"
      },
      "source": [
        "#Predicting on the COVID Tweets (No parameter tuning for CNN or RNN)"
      ]
    },
    {
      "cell_type": "markdown",
      "metadata": {
        "id": "ISwOf5ZNA-VI"
      },
      "source": [
        "## RNN model"
      ]
    },
    {
      "cell_type": "code",
      "metadata": {
        "id": "0Adlea4IO0Bm"
      },
      "source": [
        "#RNN model\n",
        "tweets_data=tokenizer.texts_to_sequences(tweet_data_balanced['tweet_cleaned'].values)\n",
        "tweets_data=pad_sequences(tweets_data, padding='post', maxlen=maxlen)\n"
      ],
      "execution_count": null,
      "outputs": []
    },
    {
      "cell_type": "code",
      "metadata": {
        "id": "pnaa3BDSsNy7"
      },
      "source": [
        "X_rnn1 = model_rnn.predict(tweets_data)\n",
        "X_rnn2=np.argmax(X_rnn1, axis=1)\n",
        "tweet_data_balanced['sentiment_rnn']=X_rnn2"
      ],
      "execution_count": null,
      "outputs": []
    },
    {
      "cell_type": "code",
      "metadata": {
        "colab": {
          "base_uri": "https://localhost:8080/"
        },
        "id": "YlPmEarAaE_0",
        "outputId": "d4642a83-314f-4617-851a-5bd43bb0cb3c"
      },
      "source": [
        "tweet_data_balanced['sentiment_rnn']=tweet_data_balanced['sentiment_rnn'].replace([0,1,2],['negative','neutral','positive'])\n",
        "tweets_data_positive_rnn = tweet_data_balanced[tweet_data_balanced['sentiment_rnn'] == 'positive']\n",
        "print(\"Number of Positive tweets from RNN Model: %s\" % str(len(tweets_data_positive_rnn.index)))\n",
        "\n",
        "tweets_data_negative_rnn = tweet_data_balanced[tweet_data_balanced['sentiment_rnn'] == 'negative']\n",
        "print(\"Number of Negative tweets from RNN Model: %s\" % str(len(tweets_data_negative_rnn.index)))\n",
        "\n",
        "tweets_data_neutral_rnn = tweet_data_balanced[tweet_data_balanced['sentiment_rnn'] == 'neutral']\n",
        "print(\"Number of Neutral tweets from RNN Model: %s\" % str(len(tweets_data_neutral_rnn.index)))"
      ],
      "execution_count": null,
      "outputs": [
        {
          "output_type": "stream",
          "text": [
            "Number of Positive tweets from RNN Model: 50143\n",
            "Number of Negative tweets from RNN Model: 29607\n",
            "Number of Neutral tweets from RNN Model: 60663\n"
          ],
          "name": "stdout"
        }
      ]
    },
    {
      "cell_type": "code",
      "metadata": {
        "colab": {
          "base_uri": "https://localhost:8080/",
          "height": 651
        },
        "id": "MYbwitr9BYYf",
        "outputId": "3ab15419-7d8b-4439-9970-eaddd608d884"
      },
      "source": [
        "order = ['Jan', 'Feb', 'Mar','Apr','May','Jun','Sep']\n",
        "plot_tweet_date_rnn = tweet_data_balanced.groupby(['month', 'sentiment_rnn']).size().reset_index().pivot(columns='sentiment_rnn', index='month', values=0).loc[order].plot(kind='bar',colormap='coolwarm', stacked=True,figsize=(10,10))\n",
        "#plot_tweet_date = tweets_post.groupby(['month', 'sentiment']).size().reset_index().pivot(columns='sentiment', index='month', values=0).plot(kind='bar',colormap='coolwarm', stacked=True,figsize=(10,10))\n",
        "plot_tweet_date_rnn.set_xlabel(\"Month\", fontsize= 20)\n",
        "plot_tweet_date_rnn.set_ylabel(\"Tweet count\", fontsize= 20)\n",
        "\n",
        "plot_tweet_date_rnn.set_title(\"RNN Model Predictions: Sentiment of the Tweets from January-June and September 2020\", fontname='Arial', fontsize=22)\n",
        "\n",
        "# Set the font name for axis tick labels to be Comic Sans\n",
        "for tick in plot_tweet_date_rnn.get_xticklabels():\n",
        "    tick.set_fontname(\"Arial\")\n",
        "for tick in plot_tweet_date_rnn.get_yticklabels():\n",
        "    tick.set_fontname(\"Arial\")\n",
        "    \n",
        "plt.xticks(fontsize= 20)\n",
        "plt.yticks(fontsize= 20)  \n"
      ],
      "execution_count": null,
      "outputs": [
        {
          "output_type": "execute_result",
          "data": {
            "text/plain": [
              "(array([    0.,  2500.,  5000.,  7500., 10000., 12500., 15000., 17500.,\n",
              "        20000., 22500.]), <a list of 10 Text major ticklabel objects>)"
            ]
          },
          "metadata": {
            "tags": []
          },
          "execution_count": 98
        },
        {
          "output_type": "display_data",
          "data": {
            "image/png": "[encoded data removed]",
            "text/plain": [
              "<Figure size 720x720 with 1 Axes>"
            ]
          },
          "metadata": {
            "tags": [],
            "needs_background": "light"
          }
        }
      ]
    },
    {
      "cell_type": "markdown",
      "metadata": {
        "id": "WD60byC7BEb9"
      },
      "source": [
        "## CNN model"
      ]
    },
    {
      "cell_type": "code",
      "metadata": {
        "id": "leXKBCibeosD"
      },
      "source": [
        "#CNN model\n",
        "X_cnn1 = model_cnn.predict(tweets_data)\n",
        "X_cnn2=np.argmax(X_cnn1, axis=1)\n",
        "tweet_data_balanced['sentiment_cnn']=X_cnn2"
      ],
      "execution_count": null,
      "outputs": []
    },
    {
      "cell_type": "code",
      "metadata": {
        "id": "-wBbzRLDO2iF",
        "colab": {
          "base_uri": "https://localhost:8080/"
        },
        "outputId": "0f95c5b3-1270-4cd3-b7a5-1e0d3d1af5d3"
      },
      "source": [
        "tweet_data_balanced['sentiment_cnn']=tweet_data_balanced['sentiment_cnn'].replace([0,1,2],['negative','neutral','positive'])\n",
        "\n",
        "tweets_data_positive_cnn = tweet_data_balanced[tweet_data_balanced['sentiment_cnn'] == 'positive']\n",
        "print(\"Number of Positive tweets from CNN Model: %s\" % str(len(tweets_data_positive_cnn.index)))\n",
        "\n",
        "tweets_data_negative_cnn = tweet_data_balanced[tweet_data_balanced['sentiment_cnn'] == 'negative']\n",
        "print(\"Number of Negative tweets from CNN Model: %s\" % str(len(tweets_data_negative_cnn.index)))\n",
        "\n",
        "tweets_data_neutral_cnn = tweet_data_balanced[tweet_data_balanced['sentiment_cnn'] == 'neutral']\n",
        "print(\"Number of Neutral tweets from CNN Model: %s\" % str(len(tweets_data_neutral_cnn.index)))"
      ],
      "execution_count": null,
      "outputs": [
        {
          "output_type": "stream",
          "text": [
            "Number of Positive tweets from CNN Model: 57825\n",
            "Number of Negative tweets from CNN Model: 43423\n",
            "Number of Neutral tweets from CNN Model: 39165\n"
          ],
          "name": "stdout"
        }
      ]
    },
    {
      "cell_type": "code",
      "metadata": {
        "colab": {
          "base_uri": "https://localhost:8080/",
          "height": 651
        },
        "id": "_STEo1jBBZlo",
        "outputId": "6c8cfb5a-eb0d-4e1c-fdda-a0024598d899"
      },
      "source": [
        "order = ['Jan', 'Feb', 'Mar','Apr','May','Jun','Sep']\n",
        "plot_tweet_date_cnn = tweet_data_balanced.groupby(['month', 'sentiment_cnn']).size().reset_index().pivot(columns='sentiment_cnn', index='month', values=0).loc[order].plot(kind='bar',colormap='coolwarm', stacked=True,figsize=(10,10))\n",
        "#plot_tweet_date = tweets_post.groupby(['month', 'sentiment']).size().reset_index().pivot(columns='sentiment', index='month', values=0).plot(kind='bar',colormap='coolwarm', stacked=True,figsize=(10,10))\n",
        "plot_tweet_date_cnn.set_xlabel(\"Month\", fontsize= 20)\n",
        "plot_tweet_date_cnn.set_ylabel(\"Tweet count\", fontsize= 20)\n",
        "\n",
        "plot_tweet_date_cnn.set_title(\"CNN Model Predictions: Sentiment of the Tweets from January-June and September 2020\", fontname='Arial', fontsize=22)\n",
        "\n",
        "# Set the font name for axis tick labels to be Comic Sans\n",
        "for tick in plot_tweet_date_cnn.get_xticklabels():\n",
        "    tick.set_fontname(\"Arial\")\n",
        "for tick in plot_tweet_date_cnn.get_yticklabels():\n",
        "    tick.set_fontname(\"Arial\")\n",
        "    \n",
        "plt.xticks(fontsize= 20)\n",
        "plt.yticks(fontsize= 20)  \n"
      ],
      "execution_count": null,
      "outputs": [
        {
          "output_type": "execute_result",
          "data": {
            "text/plain": [
              "(array([    0.,  2500.,  5000.,  7500., 10000., 12500., 15000., 17500.,\n",
              "        20000., 22500.]), <a list of 10 Text major ticklabel objects>)"
            ]
          },
          "metadata": {
            "tags": []
          },
          "execution_count": 101
        },
        {
          "output_type": "display_data",
          "data": {
            "image/png": "[encoded data removed]",
            "text/plain": [
              "<Figure size 720x720 with 1 Axes>"
            ]
          },
          "metadata": {
            "tags": [],
            "needs_background": "light"
          }
        }
      ]
    },
    {
      "cell_type": "markdown",
      "metadata": {
        "id": "os3AFUJ2RrBa"
      },
      "source": [
        "#  Neural Network Model\n",
        "## Hyperparameter Tuning"
      ]
    },
    {
      "cell_type": "markdown",
      "metadata": {
        "id": "2mkW8gbGSCIi"
      },
      "source": [
        "### CNN model"
      ]
    },
    {
      "cell_type": "code",
      "metadata": {
        "id": "sj6wENI06OaQ"
      },
      "source": [
        "#Define class of tuned model\n",
        "from kerastuner import HyperModel\n",
        "from tensorflow.keras.optimizers import Adam\n",
        "from tensorflow.keras.models import Sequential\n",
        "from tensorflow.keras.layers import Dense, InputLayer, Embedding, Conv1D, Dropout, GlobalAveragePooling1D, Flatten\n",
        "\n",
        "#The trained model trials are located in folder TunedCNN\n",
        "#****Instruction: copy the folder untitled_project within TunedCNN and paste it to the current directory. The model has not been saved to the directory.\n",
        "class CNNHyperModel(HyperModel):\n",
        "    def __init__(self, num_classes):\n",
        "        #self.input_shape = input_shape\n",
        "        self.num_classes = num_classes\n",
        "\n",
        "    def build(self, hp):\n",
        "        global vocab_size\n",
        "        model_cnn= Sequential(name= \"CNN_MODEL\")\n",
        "        #model_cnn.add(InputLayer(input_shape=self.input_shape, name='input'))\n",
        "        model_cnn.add(Embedding(vocab_size,100,weights=[embedding_matrix],input_length=maxlen))\n",
        "        model_cnn.add(Conv1D\n",
        "                      (filters=hp.Choice('num_filters',values=[32,64],default=32),\n",
        "                       kernel_size=3, \n",
        "                       padding='same',\n",
        "                       activation='relu'))\n",
        "        model_cnn.add(GlobalAveragePooling1D())\n",
        "        model_cnn.add(Flatten())\n",
        "        model_cnn.add(Dense\n",
        "                      (units=hp.Int('units',min_value=32, max_value=96, step=32, default=32),\n",
        "                       activation=hp.Choice('dense_activation',values=['relu','sigmoid'],default='relu')))\n",
        "        model_cnn.add(\n",
        "            Dropout(rate=hp.Float(\n",
        "                'dropout_1',\n",
        "                min_value=0.0,\n",
        "                max_value=0.5,\n",
        "                default=0.25,\n",
        "                step=0.005)))\n",
        "            \n",
        "        model_cnn.add(Dense(self.num_classes, activation='softmax'))\n",
        "\n",
        "        model_cnn.compile(\n",
        "            optimizer= Adam(\n",
        "                hp.Float('learning_rate',\n",
        "                         min_value=0.0001,\n",
        "                         max_value=0.01,\n",
        "                         sampling='LOG',\n",
        "                         default=0.001)),\n",
        "            loss='categorical_crossentropy',\n",
        "            metrics=['accuracy'])\n",
        "        print(model_cnn.summary())\n",
        "        return model_cnn"
      ],
      "execution_count": null,
      "outputs": []
    },
    {
      "cell_type": "code",
      "metadata": {
        "id": "B6OOsY4U6Oft"
      },
      "source": [
        "hypermodel_cnn = CNNHyperModel(num_classes=3)"
      ],
      "execution_count": null,
      "outputs": []
    },
    {
      "cell_type": "code",
      "metadata": {
        "id": "aL9_lF9O6OjK"
      },
      "source": [
        "#from kerastuner.tuners import Hyperband\n",
        "from kerastuner.tuners import BayesianOptimization\n",
        "es = EarlyStopping(monitor='val_loss', mode='min', patience=2)\n",
        "tuner_cnn = BayesianOptimization(hypermodel_cnn,objective = 'val_accuracy', \n",
        "                      seed=1234, max_trials=10)\n",
        "#Hyperband algorithm takes a lot longer to train, and the preliminary result appears to be around 87% accuracy which is not significantly different from using BayesianOptimization tuner\n",
        "#tuner_cnn = Hyperband(hypermodel_cnn,objective = 'val_accuracy', \n",
        "#                      max_epochs = 10, seed=1234, executions_per_trial=2, \n",
        "#                      project_name='AIT726',\n",
        "#                     directory='hyperband')\n",
        "tuner_cnn.search_space_summary()\n",
        "\n",
        "tuner_cnn.search(X_train, y_train, batch_size=128, epochs=10, verbose=1, validation_split=0.2, callbacks=[es])\n",
        "tuner_cnn.results_summary()\n",
        "\n",
        "best_cnn = tuner_cnn.get_best_models(num_models=1)[0]"
      ],
      "execution_count": null,
      "outputs": []
    },
    {
      "cell_type": "code",
      "metadata": {
        "id": "ZhTnleD5mdaU"
      },
      "source": [
        "score_tcnn = best_cnn.evaluate(X_test, y_test, verbose=1)\n",
        "print(\"Test Score of CNN model:\", score_tcnn[0])\n",
        "print(\"Test Accuracy of CNN model:\", score_tcnn[1])"
      ],
      "execution_count": null,
      "outputs": []
    },
    {
      "cell_type": "markdown",
      "metadata": {
        "id": "JAmkwTaYL9CQ"
      },
      "source": [
        "#Predicting on the COVID Tweets (Parameter tuning for CNN)"
      ]
    },
    {
      "cell_type": "markdown",
      "metadata": {
        "id": "OO8cJxbjMOSZ"
      },
      "source": [
        "Tuned CNN Model"
      ]
    },
    {
      "cell_type": "code",
      "metadata": {
        "id": "gk9Wp-89MOba"
      },
      "source": [
        "#CNN model\n",
        "X_tuned_cnn1 = best_cnn.predict(tweets_data)\n",
        "X_tuned_cnn2=np.argmax(X_tuned_cnn1, axis=1)\n",
        "tweet_data_balanced['sentiment_tuned_cnn']=X_tuned_cnn2\n",
        "\n",
        "\n",
        "tweet_data_balanced['sentiment_tuned_cnn']=tweet_data_balanced['sentiment_tuned_cnn'].replace([0,1,2],['negative','neutral','positive'])\n",
        "\n",
        "tweets_data_positive_tuned_cnn = tweet_data_balanced[tweet_data_balanced['sentiment_tuned_cnn'] == 'positive']\n",
        "print(\"Number of Positive tweets from Tuned CNN Model: %s\" % str(len(tweets_data_positive_tuned_cnn.index)))\n",
        "\n",
        "tweets_data_negative_tuned_cnn = tweet_data_balanced[tweet_data_balanced['sentiment_tuned_cnn'] == 'negative']\n",
        "print(\"Number of Negative tweets from Tuned CNN Model: %s\" % str(len(tweets_data_negative_tuned_cnn.index)))\n",
        "\n",
        "tweets_data_neutral_tuned_cnn = tweet_data_balanced[tweet_data_balanced['sentiment_tuned_cnn'] == 'neutral']\n",
        "print(\"Number of Neutral tweets from Tuned CNN Model: %s\" % str(len(tweets_data_neutral_tuned_cnn.index)))"
      ],
      "execution_count": null,
      "outputs": []
    },
    {
      "cell_type": "markdown",
      "metadata": {
        "id": "uix8QTpdGncr"
      },
      "source": [
        "Number of Positive tweets from Tuned CNN Model: 51375<br>\n",
        "Number of Negative tweets from Tuned CNN Model: 28561<br>\n",
        "Number of Neutral tweets from Tuned CNN Model: 60477"
      ]
    },
    {
      "cell_type": "code",
      "metadata": {
        "id": "kQ5mWvStMtaT"
      },
      "source": [
        "order = ['Jan', 'Feb', 'Mar','Apr','May','Jun','Sep']\n",
        "plot_tweet_date_tuned_cnn = tweet_data_balanced.groupby(['month', 'sentiment_tuned_cnn']).size().reset_index().pivot(columns='sentiment_tuned_cnn', index='month', values=0).loc[order].plot(kind='bar',colormap='coolwarm', stacked=True,figsize=(10,10))\n",
        "#plot_tweet_date = tweets_post.groupby(['month', 'sentiment']).size().reset_index().pivot(columns='sentiment', index='month', values=0).plot(kind='bar',colormap='coolwarm', stacked=True,figsize=(10,10))\n",
        "plot_tweet_date_tuned_cnn.set_xlabel(\"Month\", fontsize= 20)\n",
        "plot_tweet_date_tuned_cnn.set_ylabel(\"Tweet count\", fontsize= 20)\n",
        "\n",
        "plot_tweet_date_tuned_cnn.set_title(\"Tuned CNN Model Predictions: Sentiment of the Tweets from January-June and September 2020\", fontname='Arial', fontsize=22)\n",
        "\n",
        "# Set the font name for axis tick labels to be Comic Sans\n",
        "for tick in plot_tweet_date_tuned_cnn.get_xticklabels():\n",
        "    tick.set_fontname(\"Arial\")\n",
        "for tick in plot_tweet_date_tuned_cnn.get_yticklabels():\n",
        "    tick.set_fontname(\"Arial\")\n",
        "    \n",
        "plt.xticks(fontsize= 20)\n",
        "plt.yticks(fontsize= 20)  "
      ],
      "execution_count": null,
      "outputs": []
    },
    {
      "cell_type": "markdown",
      "metadata": {
        "id": "YKwTZY5pGtqJ"
      },
      "source": [
        "![index.png](data:image/png;base64,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)"
      ]
    },
    {
      "cell_type": "code",
      "metadata": {
        "id": "HTvtv3zGG7N5"
      },
      "source": [
        "cnn_sentiment,cnn_classification_report, cnn_confusionmatrix, cnn_confusionmatrix_df= predict_test(best_cnn,X_test, y_test, fit)\n",
        "print(cnn_sentiment)\n",
        "print(cnn_classification_report)\n",
        "print(cnn_confusionmatrix)\n",
        "print(cnn_confusionmatrix_df)\n",
        "#screenshot because could not compile the model on google colab"
      ],
      "execution_count": null,
      "outputs": []
    },
    {
      "cell_type": "markdown",
      "metadata": {
        "id": "LtN1YrAKHCg1"
      },
      "source": [
        "![image.png](data:image/png;base64,iVBORw0KGgoAAAANSUhEUgAAAk0AAAEcCAYAAADawICXAAAgAElEQVR4nO3d25WrIBSAYduiIdqhG5qxGOYhN9jctiFOwPzfWufhjNEgKG6BwBYAAADQtX07AQAAACsgaAIAAFAgaAIAAFB4P2jyNmzbFrbNBLfLjXtwZgubcSHbtLrneW/B5Cd+N3r+6+ff7kwjf4aP/vP5W/Uv1+e3rZ5+7o+v+ZH6e/T6+t71ed/WLJ/vGgqaWifl7fcuGm9t8Od/yann/8386/mX/O2mYd38vcL1+W0zp5/7Y8wV7g+uz14aOvnTKZ9vOjdosl7+MWzbFqxzwdyj/W2TBeiDfW4TGfvY/77D7oyISMW+939xMryNotjnW0eUhj1OWyPafef8Dzgl/0IIcSS/bSY4fzvW81ya59/P39ab3KO8ntvi73qms5f+Rv4cwPU5ln/fxv3B/THz/VHa/5b21zVV66l5nGM5f8V2a4Mt5HH53Be6Pn8xaKo273mbXgjiON6Ki8jb7MZL8np3wYrv6UbSj8J+HHd3wT122H3w0eG8FRdVJd35V5zUPDqYf+n53C7w5HsU5696U6nlj/z77oKJvqBb/s/d5szfX7k+v437o5z+127cH7djzVV/3wKe+Px8sNH/vZXXmwtG5F+8fXemHJg0zm+J6/MXg6bWfvWbphwJy5v0Ezed3CfaO0vDOzfdaYbyz6dvJffj9d6WP/pQCHtwJq4k4ptMUf5n4/pcG/fHubg/hhSDuGee+GALid2dja6BuCW0UfZnBU3/dX1OXH9NFjTtwdlOP/CpN90enMkj5ZluurH8KzwU5P6K8x+76aJjircUVfmfjetzbdwf5+L+GJK1xNzTog+aso1pS1R0zHOCpvA/1+fE9ddkQdPRZrtC83kQF+bugpGRbvWmk5Xm7fgz3XSj+Sdv2rQ5WHf+3fy9p7P56xTrgitUIF/vNuL6VHi87dYq39HtA7g/zsX9MaQ0ADoOYvKgKg1Esu1Z4PL8YCNoWuD6JGh67ZM0mUYDydJ+8VbzXtwEWBioGdLjpvvKps32QLhtM8G5ePBief9/ax7/eP5twVibVkDN8787mL/F/PG2OhCwnf4TcX0qTRo0cX+ci/tjmLevNG2FvOt1L7bzVnl+K1yfBE2YFuUI1HF/4IOK3XPITXzfnTS5JWaWvAlMOpcI8C3cHzgD15XGlSe3BAAA+CEETQAAAAoETQAAAAoETQAAAAoETQAAAAoETQAAAAoETfiK0xYUxZjmKumK7R8Sr6guJ/h7bKP8Afw3giYAud7kcqdOPldYAy763s36zqKtuDLV2mnASQiafshtcrXX0gWlyUkfE7AZt0etCvVlJkqTtCWtBEasUaRoqUgmgbM2fYAe3V+ssL5tW7CutozA952e/8kSCo3Wmi8FTbKFqToR4EDQ1Ly+ZBpk/sn9xfXzifI7W/X8fbokjGzR69Ufmvol+/5D+ZcvMZItowKcjKDpx9wqJVmJV9YmelSmuwvOP/bPVxGPK/7dmXRNIm/Ls8bXHrri77sz5QdLZf90gdWQrwLubRZITdfNc2b+7z54EQC8taDpt1qaHt4NmjrXVy//utfX429vlt/pevdXZ0HeXv2h2T6Sf7djzPWig99C0PRjig/JTkUZfbD4pveqJNMVuTsJqTx05aKRlQqyuL8PthAB7M4mLV26c/2iU/O/vSDo62MrBk2aBUdb11cv/xTXVzVt9/2b5fcfOveXImhq1R/t7aP59zgcQRO+h6DpxxQXjFQHEr2HyieCJnnIwptodf+rB02j+b8HZ/KWjusETW9Irq+zg6YD98d/KbTEtoOmdv3R3k7QhPURNP0Yb/NxFFkl1Ki0er9ay7ff3mxLb5/l7jWTVaCm9FTX7i8fVEsHTaP5L4ORW8vHLwVNveurd/12r69O2r79q8/u/ZWU6+36MEnQ1K4/+tvH8i87xu6CmWxcIq6NoOnHeGuCczbpHnhViuXuDflQTQdy1gdz5vv3u0/ax9Z0vzS6n6JB5NaHZFD0HOOazs7/kOTBtr2uhdtnevmryf8x+bltyRgj9UBx9fHztDfzr9m9+ZnyO1P/u+Pzew3qfg0Gb9Uf/e2fyL/0xwwETPhfBE0/pth8DgAKvfqD+gVXR9D0Q5K3zC/81BnAunr1B/ULfgFBEwAAgAJBEwAAgAJBEwAAgAJBEwAAgAJBEwAAgAJBEwAAgAJBEwAAgAJBEwAAgAJBEwAAgAJBEwAAgAJBEwAAgAJBEwAAgAJBEwAAgAJBEwAAgAJBEwAAgAJBEwAAgAJBEwAAgAJBEwAAgAJBEwAAgAJBEwAAgAJB04y8Ddu23f5Z/+3U/L/B89+daey/B2e253bj9s+keSan5t/zU7d8vOL1eXL+6fJ3Xo/0l+8dxf0V569xQX6idXxvX8e+9D2MaRE0zWZ3wUQVye5MWLBefd/o+Rf2jytVb7fkePL/yxvNP2+TB3lt/1u++WAvlXnh/PxT5u+0HunfXbCVoKZ1f+3OpIGSt2nQ0z2+DT79A0ET/hVB02R2Z0NaB1zwwdQwfP7eiofQHpzN32brn1/bx/Ov8FB6BaLXuzZPzz9F/i6hEtRkevdX7fyVx8+CKOBkBE2TKVbahSbsqxo+f9FScOsKqFWs18vb8esn7V7Juk+SlpIfCZo+mX/d7YtQBTW1vIvyoHb+2uNf7PrD/AiaJkPQ9IHzF2MmXPFt1Ae7mbDiS37LJ4JOl7SEuOR4yXicC44pOTv/uttX0Q1qdPeX7D7XHz9crpUYayBomkw+xuG33qY+f/6F7jlvw3bBgCmE8fzLgobmw+t61+bZ+XcsfyfWSveh+6vSfa7IF7rm8A0ETdPxwSWV7GIDRYdpzv/RvN+vNOX+3m7ZQNRr5e9g/sn8+LGg6fT8O5S/E2sMBG/dX8WB4aVrSNOSdblrDysgaJpQ8rPaH6wY+uffeGjtLpittr8PVnQtbdvFfj0XBvNPjrmpBKZxN92VuudCODv/dPk7q1L37CtI0txf7TFd7eNHLveyg1UQNAEAACgQNAEAACgQNAEAACgQNAEAACgQNAEAACgQNAEAACgQNAEAACgQNE3oMVfJ1ea/UYuXQXljMpZkrpds/3SemEvm8an519++vJPz7/6haD6xNedqKt87ivtLLHMkP9HNv87+wJkImmbzWBB11ZmCR4kFdw/PiJ4sKFueEbz1/+WdnH+l418q8Dw7/x6fWSxQeurUT737a3cmmzE8uX4611d3f+BkBE2z+tGgqbhg6pGnlpwpuFepXmxm4dPzL8uvytphizr/+rvIAtza+ql3f41eXwRN+GcETbMiaLo7+pBpL9OQusgDLHJ6/omWgKVbTQr+I/+sc9FyI4suHK2qn2p5F+XRW9dXY3/gZARNsyJoujv40NpdcMmbvqs8lHywqz6wGv4l/8SYEneh1eZPz7973r1aRxYN3DUL6irur2L37oHr63Ldw5geQdOsfjZokmNAjnWPZA+9Uj56u+4bfse/5F+6x8W6507OP2+z1hFvF7wWW9fFofurd/2Mbgc+i6BpVj8aNIXggxMDP/NnVmOVeTkmQuSjt1s2kPRKY5rOzr/sSEcHSk/v/PxLB0cv+tBvDARv3V/FgeGNC6j3Q47e/sCnETRNJvm57Y/+rNbbrf2T49ZDS44pST7jo7Ekr39Xq3PPy78gfip/zSkHTs2/wmdWysJ2/aS5vxRj5prX15Exi8DnETQBAAAoEDQBAAAoEDQBAAAoEDQBAAAoEDQBAAAoEDQBAAAoEDQBAAAoEDRNJ52H5CeXCIiXUXhjEptkLpnC/r3tyyP/xpB/TY/0l+umXv3V2y7neipPILpy/mFtBE2TkTPeyv9fnliw8/CM094mFWm2f+H4lwpMyb8x5F/b4/waM4K36q9+/dZZtma0fIBBBE2zu9wyH23FBVOPZIDML2/Th1KWn4suY1FB/o0h/5S0yzz16q9sezu/h8sHGETQNLVFV0AfMLzKvGaZBrE2VnmpizWRf2PIPyVV0NTLu9L2dvfcePkAYwiapuWDVa8Ufh3DleLugkve9F2eh/GYCOOCsws+tCrIvzHkn1I3aOrVX8r6bXfBJN2dBE34LoKmGXkbth8MmEIojVE41vyeVardyn3R7pEK8m8M+afUOq9e/XWofkvzZ7R8gFEETZPxVjTp/9iYphB8cFFtWh7o2VhlXuZX56F1vYGk5N8Y8k+lMRC8VX9ptssxYOkv5DTlA5yHoGkqsj//9u/XKgVvt85PihsPLTmmRH5md8FsveOvjfwbQ/7VJdMlZOO2evWXrn5L8r/Q9dYvH+A8BE0AAAAKBE0AAAAKBE0AAAAKBE0AAAAKBE0AAAAKBE0AAAAKBE0AAAAKBE0AAAAKBE0AAAAKBE0AAAAKBE0AAAAKBE0AAAAKBE0AAAAKBE0AAAAKBE0AAAAKBE0AAAAKBE0AAAAKBE0AAAAKBE0AAAAKBE0AAAAKBE0AAAAKBE0AAAAKBE0AAAAKBE0AEPM2bNt2+2f94d13Z6r7e7u9tt3/Gbd/KuX/I84f40Ix9bsL5nmONvhkUz1/NPuPlg8wgqAJAB52F0wUCOzOhEPPZW+TB7nc39s8AFgpaNqdSQOlUvq9zQOd1wGy/B3dn7gJ/2m9oCl5Aym/pSVvMsYFZ02IP1bdfn+DedyEj8/F3/F4UzRuj954oht8KH0+2G0L2xal9/EdtTc6AB+zOxvSW9YHe+Sp7G36EO8ERVkQtZrs/HywrbpK5k/Yg7Px59v7D5cPMGjBoMkHH9003m7JTbg7kzbZepsEIb3t2U29u2BlpfcIjB439+6Ce+wzmL7S9y1fsQKLKD6UD72w7MGZrd999Tj2kg/86Bzl+e0uWOfuL3/iBfC+3YiWKvnS2dp/vHyAMesFTc/WmNe/V70j31qk3vagDpqyv30kfY8kyEqEKgH4D8MP5fgFKoQQvAv1qkK2uqwn6167t4y//lbIPzEmysX1XWd/giZ822JB0x6cEW8uScXz7aBpNH358WllAv5PPkbmWGtQ9lBvvPRc494WdZq3WeuTF8MjRvYfLR9g1GJBk3yruLXqyO6vtI/91pQcj1NqbU/76G/Hz8YkVCvC8fQ997Q2eFqZgH/mg4vuufJA40f3VCHo0bx03b9nxYd9d7hB9pn2i2Ipf9v7a8oHOM9iQVNIm3Y3E5yzogss/1lv6aasb/dpf7q/jV+6BTpivEJp/w+kL4RwHzd1hTdRYC3J/Vm+OetBU1ZHVO7hZbvmNGO20s/IIDL+oUw7fxX195qZiIWtFzT9ClqZAACYCkHTZJLpCGqtUAAA4N8RNAEAACgQNAEAACgQNAEAACgQNAEAACgQNAEAACgQNGE+8VxXb/x8MPkFYmH/3vblnZh/co6x2qLUSyP/2sQyKMXUJ/MxpXNVqe6/xv6j5QOMIGjCXMSCnodn/PU2qUiz/XvbV3dy/mVLf2Sr3C+O/GvanUkDpVL65SK86QGy/B3d/1L3L6Y3UdB0n4nb2GAfs+0+3zbSBWxN5y0teZMxLrho7aLHm55xe/TGkt6g6dvgwVm5G+mL02Xcnn72WRHEs+HKGcmvr7gg55FaUc60LCv13vbFnZ5/2cevNWs9+XdQdn6dBXSzmdDzZVJa+w+XDzBooqAphGSttngZkfhG233wyTOwsxaSt7fgQyyiaeJAJVqZ3FsRoIg3m65O+rJKZnfBRB9IP19Z++7Cxlcx7y3zoFkGYl3n55849sUeWOSfRnSO8vx2F6xz6VJUsu4VLVXypbi1/3j5AGPmC5qiQOYZTCRvJ/HacHLW7PbikE8HF9HMb9TOObTWpgt7cOZVSaQrgBcqgIu1hPQMV4pRAHzb3WWVdnP74k7Pv+TQq66fVkf+HZN1r91b75NFzwt1WtoTEAVNnf0JmvBtiwVNe3BGvLkkFc+3g6Ze+sTfRCtTsQL4sTXo8jEKx97Gs7IS+dfbvrqz8y858updSwXk31GizvU2a31KXwzH9h8tH2DUYkGTDCqi7ry7fGDhrSlZrrRdr8jkDa4MxGT6K+mLj+kKlYn8/qy78PJ8cGIcWDH/aqvMyyBVlnVv+/JOzr/oe675sCL/WrrDIbLPtOvPUv6299eUD3CeiYKmqFvL+ue4o3jAtvUhbdrdTHDOZl1g8me9yQ1o0m1591mve613Gv30PT9XPHD6/cbaiz3U+5LyK+ZR46GVlbH8TG/7+s7Nv+eXXPZhRf61aMZspZ+RQWT8Q5l2/pbr3375AOeZKGhC0Y+NaQIAYFYETRNK3qQY5AgAwBQImgAAABQImgAAABQImgAAABQImgAAABQImgAAABS+FjQVV7fu8ZU5j05zny+EX7D9r3iuqzcKO1mwuTjDe3v78k7MPzkHWm3R7KWRf21iGZRi6pP5mNK5qlT3X2P/0fIBRqzX0qSYFO6zyxMcmREcw8SCnodn/BWThmb797av7uT8y+6tq80jRv417c6kgVIp/XIR3vQAWf6O7n+p+xfTOxQ0Pd+SRKWQvnGIGbUbizWWK4t4NlgTnI9mBr/vb338HfHNlc/m3Z3xO3tTSrdbfzBoEjPeGjHlf/L3+LPPdHTO/+KKC3IeqRVlUC0r9d72xZ2ef9nHrzWjOvl3UHZ+nQV0s5fefJmU1v7D5QMMOtjS1F/QNlu7rbAA4+PvpcokXXfoFsDkq2hH31E4TqsiaqdPLrj7Rvfc7oMXa8c1K1GxaG/3/C9ufBXz3jIPmmUg1nV+/oljX+yBRf5pROdYXGDcRS+eJlvA2IiWquTFt7P/ePkAYw53zz0CEm8fN0z8plBu6aktbJkHA4UboNdSUFgQsx40ddJXXFzz6E3ZW7tuD8680pcGcYrzv7jhSnF3wSVBqssq7eb2xZ2ef8mhV10/rY78OybrXrv3JLz+Vq7T4qDSxfV1Z3+CJnzb4aDpdtHeAiXvbHB7/LZ0oCtLGzS9sUp9PWjqpG84aJItVYX0xn8TrUyq87+4fIzCsbfxrFIV+dfbvrqz8y858updSwXk31GiTi30LGSt+wP7j5YPMOr4QPDdBefuFcHugjXpRaz+VVy1ey69wbzNu+f6QVN0jN0FE7V0tdOXtgI9Pq/vwpFBz63VKb+nbxWFK1Qm3fO/PB+cGAdWzL/aKvO960Nx/azt5PyLvueaDyvyr0UON9idKf5C8PWn9otqKX/b+2vKBzjPG7+e88E++5kLLSshGjCedc+J/n7FYG5j7avSiZp1ny01pUHlrZ+rNtMn993CZt2xcU1x0/NmgnOVaRLEr2zS/K2c/49IyqeYR42HVnaNyc/0tq/v3Px7fsllH1bkX4tmzFb6GRlEpvVrK39Lwxs05QOcZ/4pB35sTE/m188fAIBJTBk0JW8SPzjI79fPHwCAGU0ZNAEAAMyGoAkAAECBoAkAAECBoAkAAECBoAkAAECBoAkAAECBoAkAAECBoAkAAECBoAkAAECBoAkAAECBoAkAAECBoAkAAECBoAkAAECBoAkAAECBoAkAAECBoAkAAECBoAkAAECBoAkAAECBoAkAAECBoAkAAECBoAkAAEDh/aDJ27BtW9g2E9x+bPvuTNi2LZjijvG+W9isb283LsijdI9/+1RwpnL8QYfO75309/LnP+wumEcaNht8sskMlN+9XLrlBwDA/xoKmpoPtdp2b28P0t0FW9q+u2CiB+nuTIifu7sz6YNWfk/v+M+PbcF6H+yng47O9w+nv5M//8LbLFB6KqQvPr/u+ff+DgDAl/x/0PRQDSqsaJnqBDa172kETa8H+QlBk+L7EwfTfzh/Ps4HW2gde222Iojbg7PtzxM0AQBWsEbQ1OjCKXVvtY7/bMl5HPsrQdP76dflz4l2F6xzwT675kT3q2hpKrdKKc6foAkAMJlFg6b48+ZgS0003mY7ceyMsqXpePq/HDTdxyO90lz4fjFmydlKV15onD9BEwBgMhMGTXKMTq81qNL9owpaJuieO5j+4/nzYd5mrUPeVn4MEELods/VthM0AQAmM13QFIIPTgwcjmOC2wDukGwv/kJr0qBpPP3t/PkP6Tm0g6K3y4+gCQAwmX8PmkrdY3nLxdb4yXo0Hqawr+b48nOffDj3v388/e38+Q/pOSRJSKYiOF5+TwRNAIDJfK+lCWjh+gEATOYrk1sCdUxuCQCYE8uoAAAAKBA0AQAAKBA0AQAAKBA0AQAAKBA0AQAAKJwXNJ3967lkPqB4mY50HqD6L7Dun3tjnqPHXEq1Y/e2J8uM1L6/en6K458omSOqlsed80vmomrM48Sv5wAAMzk1aDrtoVdcBPaxaWvOQJ3+/Y0ZwR8L/vYWBK5tFwvaFmf0bpxf9/gn83IdOVnOvfNLFkxuzGjOPE0AgMksGDQdXKDW2+yh/FokdmAZlV7QcmTB3TSq0J3fl4ImSQZR3fOT5VG7TgiaAACTWS9o2l2wzgX77B5qdf8VApCkpWOSoClOo/b8pgia8vzrnh/LqAAAFrVe0HQfL/M6dq1lxgdbCDhKa7u9lc6zgibt+c0QNBVb8fpBoUtamlx1RnmCJgDATNYMmrIFbEVw5K1yAPo3WprkGJ68+6p7fprv/wfZ+KbQP78sqGqMDSNoAgDMZL2gKcjB3Xtw9hVkeCu6fAqtIdGR/j1oCsEHF/29NBC6dX7q7z9dLe865yfLg6AJALCIJYMmOS7m9RD20Vig0vboCFE33ZF0lrr3NvFrsdb2EMTP9ouBR+38dMf/F41gtH1+YkxT41eCBE0AgJksGjTh8rh+AACTWXdyS1wUk1sCAObEMioAAAAKBE0AAAAKBE0AAAAKBE0AAAAKBE0AAAAKC/56Lp3np/QLq2Quo2yeIDmXU2WeoJEU3r+/+uuvZ97U5mkK4XmeJ6R/NH3t/O2XT/v4vV/P8es6AMB3LDdPUzpbdv7/dEFexbIln0/g7ftrM13vLhgxGWYpObfzKqV1MP2j6Stsj8u5Wz7K8+9eP8zjBAD4Z8sFTaXvaS7TkaXj5KDp4ciCvSI9r0DkhKBpNH3ZTOCVZV4qn9ec/2M/giYAwEwWD5p8sNkSImKZjmz7+d1zt2QcCErEWnmvlrJK0PSJ9L+bPtFSdOtqq6UhL5/u8aPjEjQBAGaycNDkgy2Nl9pdcElLk2uPqdpdMGe0PL0ZlJTWlmvm47vpfzdoCiEdk2RccLYUNJXLh6AJALCqNYMmb6sDzLOHcm3szusD7e6ld1WDkiNjrDRdcW+m/yPpq3x/s3yUxydoAgBMZrmgyVvR5dYb0ySCA29Fy40YOP4x1WDNBxf9vToQ+v5ZGVB8LP0fSV++vVs+2uMTNAEAJrNY0CTH89z+ZQOTTXvMj7etMU9jSt1r8juS769EJPFxZD6OpH84fbsLZqtt15SP7vwJmgAAs1ksaMLPIGgCAExmwcktcW1MbgkAmBPLqAAAACgQNAEAACgQNAEAACgQNAEAACgQNAEAACgQNAEAACgQNOGL7tMHfHiC0RnszjAlwoXLtypal3H98p+3/EbvL+5PvIugCV920tp/J/LFBYpRNl/5/kv5XWby1fnKr4f7E2ciaMLTbXkTE5yPl0pJJyd9LIFi3B69VceVlFhKJXtLTbdbX6qUHxNYisrv/n3WxemTFWTv++Nldl7n+nzAiWVi0gefYpmYRktDtjRO/F3PdPbS/77Ll+9j//sOj/x+lUO//Lrn37w+0nP5dNA0e/lp0henUbXMlbXBFsq4nPdr359YA0ETErcKS1ayomJ7VCaPCmN3wfnH/qKS9DaqWPbgTLy91vxfeag+jhf/XTyc2t9/O79XJXqrAJPKc/fBi4dQvnae4k229tCUf99dMNEX9NI/6url21uw+/aRTvk1zl9zfZTS/Smzl18vfdmC47sLRpRfvH13pnz9N/J35fsT8yNoQqL4EFA8iO4fLL7pPSvR4n4+fZPsJ7CRls73l74rqzzzY3w0aAp7cCZ+iMSVcC/9465dvrpz0QRN5fMvp+G/g6aZy6+dPh9sIbN2Z/NArXftnxU0ffn+xPwImpDI3qRuf1RWyp3xD6c/VHvjLwrfJfc3+ZvkZ4Om6JjiLfY/xo9cu3x7+z8+8m7QpLs+Hn8/J2iau/za6dMETXmazH+2NMXp/cL9ifkRNCHhbd4cn1VCjTfx9q9S0re4x+ePdt+0HhC9X8XISj3tLpAPiNubZR40RcfYXTCVdDbzwbrgCg+Ys3/Vc/XyTfO90P0aFOXXaqlRXB95Oj5n9vLrpS8PqtJAJNueBS7PDzaCpnXvT8yPoAkJb01wzibNz69KQjad17qvGs3XYiDtZl1h3ER7oPDzO6NjpeNeWs3naRO7sTZ9wPj43F95IR/k5YHK5fypjt0pPm176R/zW+VbGOifpbFffrWBxPn1caD83zR1+XXTF0Kve7Ndtsr8Xfj+xPwImpAoNq9f2WV+Gq7zc+V7MbOX3+zpA0YRNOEpeYO68C9CfuU8pV8976uYvfxmTx/wCQRNAAAACgRNAAAACgRNAAAACgRNAAAACgRNAAAACgRNX8IkafPKF3oV4rl6KhPvtX5F1D3+7VO3OWUqc8XgfYfK953y610f+L7qXE7pwr3v3N+4treCJtU09T+M/FnYY1K72qzKYlmH3Zlkcr5sBmU5D1Tv+M+PbcH68rITGNDJ/+Hy61wfmIBcFDpWKL/mAsI/Ns8bDgdN5QULSzO6GrdHEfn9AvXp7MrlNzbxHcVIvj2jsHX1t4j+8eNZYwszCosZc3uz3bZmFJY3W/yGY9yeftcznZr8wbDqQ1Wuk9UJbGqVqmqpC4Km03SC1qeD5Xf4+sA/66yll60l2FlvjqDp55zT0vR42D8uzt0F91p8qLm2VDajrLeH166Sq56bA8dPV+kurF21++DF2mUfXdBV/l2svaTLHww78lBsBd61sqk9tJPlG3jgnqYZNL1ffrrrA1+zu2CdS5fakWvdiZak/DmjuD5wWacFTdUKqRk0lVtqDq3tM1MFeZ4AAAcsSURBVHT8QgWXBTfttZNuu4yssp0umpkGSR/IH+h86KFYHbvW6h4S5cub7AmULU3Hy4+gaWr3lv76It2vzzyCIteozxmb+nsmC5o6TaG6xA0cv3ADyf1N3tLz2aApOma2wvcH8gc6jaAmLe9ea1ClzFQPbVqaTqPtnjtYfsevD/yrQst8e728Xp1Lnfxr3gyaootsd8EUVpluBU1GtPzIgXb9yL3dPdfq/usdX95A3rbeSm7pz4OmTv7c01lPx+1GdIWbmTebf1K9hn1w4nqSY/qygeGlhyZB03dV8n+8/NrXB74vLeN20PP2/Y3Lem/KgerPNeNB1LXuK5/2J8uB1kEs/FjsfmoPBH9+Z5RO/fHTLjBjbVo5xk23mwnO2fwcD+ZPdWxW5Wbs5w/eVeoey99Mo21ZGYkyFvtqji8/R5D8Of38Hy+/9vWB70vLuF53H7+/cX3M09TDryMAAEAgaCpK3hR5kwAAAIGgCQAAQIWgCQAAQIGgCQAAQIGgCQAAQIGgCQAAQIGgaTaNBX2xEOVcXc0JTg3z/LyjvBC4fnsyF1st/6vlqzg+viaf465QTp3yT+bq4v78Oecso3Jx/3L+zA+1ruIin49NW3OG4fTvzAh+2GNS2N6CyLXtYsHW4ozejfLtHh9fldXdpQXSW+UvJh1mxvffczBoKi8YKx8Cz+j9GbHfL1Sfzp5dfiMT31GcJ6k9I7h19bfA5vG76Rs8/9tBkxlnW2+7BE0rOrhAa2HtwtdSOQRNb+sFLUcW3E2fmrryJWhaggyiuuUv71fq6Z9z2oK9Jg5IdhfcY4fO2nDZ4omFBRZ7a88lfxcXdff4nfTdPjJw/rsPXqxtV3wucjOuaXfBOpcuFVQtxsoK688LgqDpbZ8MmuIy0pYvQdMC8vurW/4so/LzTguaWgv21oOSckvOobXVRo//oaCpXmHmaSBoupB762J9kefw+nvhgVta24zr4A1nBU3a8iVoml+xlbcfNLukpck1XopwRZMFTe0Vp5WJGzv+qUHTHpzJW7oImi6k0DJabN1stkA9P0hL07veDprkGJW8e6Zbvprvx9eV6vFe+WdBFeX8c94MmqJKYnfByJagTtAkxwjFwcFrPEdLu3uuFfR0j99J3+0j756/fCu9HZ+g6VrSLtc0UPc2H0dXj4sImt72ZtAUgg9O1BeyCFrlq/5+fFnt3uqUv+KlGtf23pQDyp9Tl7uffDoewN+OlY476nXPtQeCP78zSqf++P30DZ1//HPWzQTn4sHn5f0PdU9iAmk5vsq//0OC5xGibjqCZ71S9+Ymfg3V2h6CqB+KD9Za+eqOjwk0Xlba5S/raOrmX8M8TQAAAAoETQAAAAoETQAAAAoETQAAAAoETQAAAAoETQAAAAoETQAAAAoETW/STcJ53v6YVTqPS6mMk7l8snlg5FxOzAPzaeWFwiPxXGrVyUXv5Uz5/bvR8mvff/37V3d94KrOWUblx5E/v0suwJwtyJwsyKtYtgOf9cj/2kzOuwtGTIZZKo5buZbKivI71Wj5FbbLiY+b96/y+sB1HQya+jMaP2ZTNW6PIvJ7EOFt8vnyG4P4juJsuuUZwW/f/ZrFu7YKeTojeB7gpDPC2uKCneW3EMWMz439s1mg45nHn2nQ5A+mIWceLvw/u/6phc93ZMFeUR6vBy1B09e8W37ZTOCd9UjF5zXXB67ttAV7TfxAj1eG7qzdU1zcNAsM6mvP3QIeuSzK6//eFpZEEUGRXAuvGJg01oZTtTTV9pd/310wUYbp8gdzkGsNhpAtw5Btp3vnXxx56MqXpuf9WAmaKL/zvVt+hfq+Xkb5/ds9Pi7vtKCptWBvPWgqt9QcqXiy5tTkO8tvBemNoFxb6KygKezBmTjIi4Ok8fzBf/HBFlo5kxeIEELwLv+M+LzhTfbz3nzoltaWa45NpPzO8W7QFEI6Jsm44Ir1dfn+JWjCZEFTp6lUlbbCg+pQ0JRtTN9MomOeEzRF6c0q3PH8wT/wttgtHELhWuuukk6Zn6L60D0yxkzTNUP5neIj5RdCsXya9y9jEH/dm0FTdEHtLhjZ0tEJmoxoWZLdYf1flXW657JVy2stN/djRTdNtr32ptgMmjr509n/kSZXCAD51d3csuuvN6Yp654WLRdi4Dg+pFpH+eBEfVTP/vyBSfn9k4+UX769e/8ePD6u570pB+IByklAILu2CgOhky6m16Bt+QuGdvdTK2gywTnbaD7Pu7hKA9nL310+vywdB/On2L3WqGz7+YPvUPwQQNH9m5QvTf8fVepey1+y4h+ClO+s7Ecbtf0pv48aLr+kbpbbNfev7vrAdV1unqZi9xwAAMCgSwVNvOEBAICzXCpoAgAAOAtBEwAAgAJBEwAAgAJBEwAAgAJBEwAAgAJBEwAAgAJBEwAAgAJBEwAAgAJBEwAAgAJBEwAAgAJBEwAAgMIfWewCfvBZuLUAAAAASUVORK5CYII=)\n"
      ]
    }
  ]
}